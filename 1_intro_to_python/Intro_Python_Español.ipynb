{
 "cells": [
  {
   "cell_type": "markdown",
   "metadata": {},
   "source": [
    "<center>\n",
    "<table style=\"border:none\">\n",
    "    <tr style=\"border:none\">\n",
    "    <th style=\"border:none\">\n",
    "        <a  href='https://colab.research.google.com/github/AmirMardan/ml_course/blob/main/1_intro_to_python/0_intro_to_python.ipynb'><img src='https://colab.research.google.com/assets/colab-badge.svg'></a>\n",
    "    </th>\n",
    "    <th style=\"border:none\">\n",
    "        <a  href='https://github1s.com/AmirMardan/ml_course/blob/main/1_intro_to_python/0_intro_to_python.ipynb'><img src='../imgs/open_vscode.svg' height=20px width=115px></a>\n",
    "    </th>\n",
    "    </tr>\n",
    "</table>\n",
    "</center>\n",
    "\n",
    "\n",
    "This notebook is created by <a href='https://amirmardan.github.io'> Amir Mardan</a>. For any feedback or suggestion, please contact me via my <a href=\"mailto:mardan.amir.h@gmail.com\">email</a>, (mardan.amir.h@gmail.com).\n",
    "\n"
   ]
  },
  {
   "cell_type": "markdown",
   "metadata": {},
   "source": [
    "# <center> 🐍 Python 🐍 </center> "
   ]
  },
  {
   "cell_type": "markdown",
   "metadata": {},
   "source": [
    "# Introducción a Python\n",
    "\n",
    "Este cuaderno cubrirá los siguientes temas:\n",
    "\n",
    "- [Introducción](#introduction)\n",
    "- [¿Por qué Python?](#why_python)\n",
    "- [Instalación de herramientas](#installing_tools)\n",
    "- [1. Variables y tipos de datos en Python](#variable)\n",
    "    - [Números en Python](#numbers)\n",
    "    - [Cadenas en Python](#strings)\n",
    "    - [Booleanos en Python](#boolean)\n",
    "    - [Listas en Python](#list)\n",
    "    - [Diccionarios en Python](#dict)\n",
    "- [2. Operadores en Python](#operators)\n",
    "    - [Operadores de comparación](#comparison)\n",
    "    - [Operadores lógicos](#logical)\n",
    "    - [Operadores de membresía](#membership)\n",
    "    - [Operadores bit a bit](#bitwise)\n",
    "- [3. Control de flujo](#control_flow)\n",
    "    - [Declaraciones `if`](#if)\n",
    "    - [Declaraciones `match`](#match) \n",
    "    - [Bucles `for`](#for)\n",
    "    - [Bucles `while`](#while)"
   ]
  },
  {
   "cell_type": "markdown",
   "metadata": {},
   "source": [
    "<a name='introduction'></a>\n",
    "## Introducción\n"
   ]
  },
  {
   "cell_type": "markdown",
   "metadata": {},
   "source": [
    "Bienvenido a la primera sesión de este taller.\n",
    "En esta libreta, se discutirán los materiales básicos para prepararse para la programación.\n",
    "\n",
    "Python es un lenguaje de programación de alto nivel y, debido a su facilidad de aprendizaje y uso, puede escribirse y ejecutarse mucho más rápido que otros lenguajes de programación.\n",
    "\n",
    "Creado en la década de 1980 por **Guido van Rossum**, puede leerse y entenderse fácilmente.\n",
    "\n",
    "\n",
    "<center><img src='./img/guido_van_rossum.jpeg' width=250px></center> "
   ]
  },
  {
   "cell_type": "markdown",
   "metadata": {},
   "source": [
    "<a name='why_python'></a>\n",
    "## Por qué Python? "
   ]
  },
  {
   "cell_type": "markdown",
   "metadata": {},
   "source": [
    "Python ha presenciado un crecimiento y una popularidad increíbles en los últimos años.\n",
    "<center>\n",
    "<img src='./img/programming_languages.png' alt='programming_languages' width='700px'>\n",
    "</center>\n",
    "\n",
    "Python tiene una filosofía de \"baterías incluidas\" debido a las sólidas capacidades de sus paquetes más grandes.\n",
    "\n",
    "    Fácil de aprender y usar\n",
    "    Comunidad madura y solidaria\n",
    "    Numerosas bibliotecas de Python\n",
    "    Eficiencia y velocidad\n",
    "    Flexibilidad\n",
    "\n"
   ]
  },
  {
   "cell_type": "markdown",
   "metadata": {},
   "source": [
    "<a name='installing_tools'></a>\n",
    "## Herramientas de instalación"
   ]
  },
  {
   "cell_type": "markdown",
   "metadata": {},
   "source": [
    "Para instalar cada herramienta, haz clic en ella o copia la dirección en la barra de direcciones de tu navegador.\n",
    "\n",
    "<a href='https://www.python.org/downloads/'>Python</a>: `https://www.python.org/downloads/`\n",
    "\n",
    "<a href='https://pip.pypa.io/en/stable/installation/'>pip</a>: `https://pip.pypa.io/en/stable/installation`\n",
    "\n",
    "<a href='https://code.visualstudio.com/Download'>VS Code</a>: `https://code.visualstudio.com/Download`\n",
    " "
   ]
  },
  {
   "cell_type": "markdown",
   "metadata": {},
   "source": [
    "<a name='extensions_for_VSCode'></a>\n",
    "## Extensiones para VSCode\n",
    "\n"
   ]
  },
  {
   "cell_type": "markdown",
   "metadata": {},
   "source": [
    "- Python\n",
    "- Pylance\n",
    "- Jupyter\n",
    "- VS Code Jupyter Notebook Previewer\n",
    "- autoDocstring - Python Docstring Generator\n",
    "- Prettier\n",
    "- Todo Tree\n",
    "- Excel Viewer\n",
    "- Path Intellisense\n",
    "- Python Indent"
   ]
  },
  {
   "cell_type": "markdown",
   "metadata": {},
   "source": [
    "<a name='variable'></a>\n",
    "## 1. Variables y tipos de datos en Python"
   ]
  },
  {
   "cell_type": "markdown",
   "metadata": {},
   "source": [
    "- Una `variable` es la ubicación de los datos en la memoria.\n",
    "- Python no necesita que la variable sea declarada y se crea la primera vez que le asignas un valor.\n",
    "- Puedes usar `print()` para mostrar el valor de una variable o el resultado de una expresión.\n",
    "- Podemos usar `id(nombre_de_variable)` o `hex(id(nombre_de_variable))` para verificar la dirección de la variable.\n",
    "- El tipo de una variable se puede obtener utilizando `type(nombre_de_variable)`.\n",
    "- Cada variable en Python es un objeto, y los métodos (funciones) y atributos (variables) de cada objeto se pueden llamar como `nombre_de_variable.nombre_de_metodo()` o `nombre_de_variable.nombre_de_atributo`.\n",
    "- El tamaño de una variable se puede obtener con `nombre_de_variable.__sizeof__()`.\n",
    "- Los nombres de las variables distinguen entre mayúsculas y minúsculas.\n",
    "- En Python, usamos `#` para comentarios de una sola línea y `\"\"\" comentarios \"\"\"` para comentarios de varias líneas.\n",
    "\n",
    "$\\color{red}{\\text{Nota:}}$ Python se toma muy en serio la indentación.\n",
    "\n"
   ]
  },
  {
   "cell_type": "code",
   "execution_count": 1,
   "metadata": {},
   "outputs": [],
   "source": [
    "# No te tomes demasiado en serio esta celda!!\n",
    "\n",
    "def dual_equality(a, b):\n",
    "    assert a == b, 'Inténtalo otra vez! \\U0001F4AA'\n",
    "    print(\"Good job! \\U0001F44F\")\n",
    "    "
   ]
  },
  {
   "cell_type": "code",
   "execution_count": 2,
   "metadata": {},
   "outputs": [
    {
     "name": "stdout",
     "output_type": "stream",
     "text": [
      "Value: 1 \n",
      "Type: <class 'int'> \n",
      "Size: 28 bytes 🤔\n"
     ]
    }
   ],
   "source": [
    "# Creating a variable\n",
    "\n",
    "var_name = 1\n",
    "\n",
    "print(\"Value: {} \\nType: {} \\nSize: {} bytes \\U0001f914\".format(var_name, type(var_name), var_name.__sizeof__()))"
   ]
  },
  {
   "cell_type": "markdown",
   "metadata": {},
   "source": [
    "Python tiene los siguientes tipos de datos por defecto:\n",
    "- Tipos numéricos: `int`, `float`, `complex`\n",
    "- Tipo de texto: `str`\n",
    "- Tipos de secuencia: `list`, `tuple`, `range`\n",
    "- Tipo de mapeo: `dict`\n",
    "- Tipos de conjunto: `set`, `frozenset`\n",
    "- Tipo booleano: `bool`\n",
    "- Tipos binarios: `bytes`, `bytearray`, `memoryview`"
   ]
  },
  {
   "cell_type": "markdown",
   "metadata": {},
   "source": [
    "<a name='numbers'></a>\n",
    "### 1.1 Números en Python"
   ]
  },
  {
   "cell_type": "markdown",
   "metadata": {},
   "source": [
    "Los números en Python pueden ser enteros, `int`, como `1`, `-23`, `1000` o float, `float`, como `1.0`, `-23.5`, `1000.99` or complejos como `2j`, `-1.2+ 3j`."
   ]
  },
  {
   "cell_type": "code",
   "execution_count": null,
   "metadata": {},
   "outputs": [],
   "source": [
    "int_var = -23\n",
    "\n",
    "float_var = 1.0\n",
    "\n",
    "print(\"int_var:\", type(int_var))\n",
    "print(\"float_var:\", type(float_var))\n"
   ]
  },
  {
   "cell_type": "markdown",
   "metadata": {},
   "source": [
    "\n",
    "<hr>\n",
    "<div>\n",
    "<span style=\"color:#151D3B; font-weight:bold\">Pregunta: 🤔</span><p>\n",
    "Cuál sería la salida de \n",
    "\n",
    "```python\n",
    "print(type(1.))\n",
    "```\n",
    "\n",
    "\n",
    "</div>\n",
    "<hr>\n"
   ]
  },
  {
   "cell_type": "markdown",
   "metadata": {},
   "source": [
    "### <span id='numeric_operations'> Operaciones numéricas <span>\n",
    "\n",
    "Primero definamos 4 variables \n"
   ]
  },
  {
   "cell_type": "code",
   "execution_count": 4,
   "metadata": {},
   "outputs": [],
   "source": [
    "a1 = 12\n",
    "a2 = 5\n",
    "a3 = 1.2\n",
    "a4 = 2j"
   ]
  },
  {
   "cell_type": "code",
   "execution_count": 5,
   "metadata": {},
   "outputs": [
    {
     "data": {
      "text/plain": [
       "17"
      ]
     },
     "execution_count": 5,
     "metadata": {},
     "output_type": "execute_result"
    }
   ],
   "source": [
    "# Adición\n",
    "\n",
    "a1 + a2"
   ]
  },
  {
   "cell_type": "code",
   "execution_count": 6,
   "metadata": {},
   "outputs": [
    {
     "data": {
      "text/plain": [
       "-7"
      ]
     },
     "execution_count": 6,
     "metadata": {},
     "output_type": "execute_result"
    }
   ],
   "source": [
    "# Subtracción\n",
    "\n",
    "a2 - a1"
   ]
  },
  {
   "cell_type": "code",
   "execution_count": 7,
   "metadata": {},
   "outputs": [
    {
     "data": {
      "text/plain": [
       "60"
      ]
     },
     "execution_count": 7,
     "metadata": {},
     "output_type": "execute_result"
    }
   ],
   "source": [
    "# Multiplicación\n",
    "\n",
    "a1 * a2"
   ]
  },
  {
   "cell_type": "code",
   "execution_count": 8,
   "metadata": {},
   "outputs": [
    {
     "data": {
      "text/plain": [
       "2.4"
      ]
     },
     "execution_count": 8,
     "metadata": {},
     "output_type": "execute_result"
    }
   ],
   "source": [
    "# División\n",
    "\n",
    "a1 / a2"
   ]
  },
  {
   "cell_type": "markdown",
   "metadata": {},
   "source": [
    "<div class=\"alert alert-block alert-info\">\n",
    "<b>Consejo:</b> Incluso la división de dos enteros con residuo de 0 devuelve un resultado flotante.</div>\n"
   ]
  },
  {
   "cell_type": "code",
   "execution_count": 9,
   "metadata": {},
   "outputs": [
    {
     "data": {
      "text/plain": [
       "2"
      ]
     },
     "execution_count": 9,
     "metadata": {},
     "output_type": "execute_result"
    }
   ],
   "source": [
    "# Modular\n",
    "\n",
    "a1 % a2"
   ]
  },
  {
   "cell_type": "code",
   "execution_count": 10,
   "metadata": {},
   "outputs": [
    {
     "data": {
      "text/plain": [
       "248832"
      ]
     },
     "execution_count": 10,
     "metadata": {},
     "output_type": "execute_result"
    }
   ],
   "source": [
    "# Potencias\n",
    "\n",
    "a1 ** a2"
   ]
  },
  {
   "cell_type": "markdown",
   "metadata": {},
   "source": [
    "<hr>\n",
    "<div>\n",
    "<span style=\"color:#151D3B; font-weight:bold\">Pregunta: 🤔</span><p>\n",
    "Usando <code>a4</code>, muestra la multiplicación de un número complejo por su conjugado es igual al cuadrado del módulo del número.\n",
    "</div>\n",
    "<hr>"
   ]
  },
  {
   "cell_type": "code",
   "execution_count": 11,
   "metadata": {},
   "outputs": [
    {
     "name": "stdout",
     "output_type": "stream",
     "text": [
      "Good job! 👏\n",
      "4.0\n",
      "(4-0j)\n"
     ]
    }
   ],
   "source": [
    "sq = abs(a4 ** 2) \n",
    "\n",
    "pr = (a4 * -a4)  \n",
    "\n",
    "\n",
    "dual_equality(pr, sq)\n",
    "    \n",
    "print(sq)\n",
    "print(pr)\n"
   ]
  },
  {
   "cell_type": "markdown",
   "metadata": {},
   "source": [
    "<a name='strings'></a>\n",
    "### 1.2 Strings en Python"
   ]
  },
  {
   "cell_type": "markdown",
   "metadata": {},
   "source": [
    "En Python, las cadenas de texto pueden definirse así:\n",
    "\n",
    "\"Esta es una cadena\"\n",
    "\n",
    "o así\n",
    "\n",
    "'Esta es una cadena'\n",
    "\n",
    "¡Así que vamos a definir dos variables de cadena y a jugar con ellas!\n",
    "\n",
    "<a href='https://www.w3schools.com/python/python_ref_string.asp'>Referencia</a>\n"
   ]
  },
  {
   "cell_type": "code",
   "execution_count": 1,
   "metadata": {},
   "outputs": [
    {
     "name": "stdout",
     "output_type": "stream",
     "text": [
      "hola, todo el mundo!\n"
     ]
    }
   ],
   "source": [
    "str_var1 = 'hola, '\n",
    "str_var2 = 'todo el mundo!'\n",
    "\n",
    "\n",
    "new_sentence = str_var1 + str_var2\n",
    "print(new_sentence)"
   ]
  },
  {
   "cell_type": "markdown",
   "metadata": {},
   "source": [
    "<div class=\"alert alert-block alert-warning\">\n",
    "<b>Recordatorio:</b> Cada variable en Python es un objeto y tiene sus propios métodos y atributos.\n",
    "</div>\n"
   ]
  },
  {
   "cell_type": "code",
   "execution_count": 2,
   "metadata": {},
   "outputs": [
    {
     "data": {
      "text/plain": [
       "'Hola, Todo El Mundo!'"
      ]
     },
     "execution_count": 2,
     "metadata": {},
     "output_type": "execute_result"
    }
   ],
   "source": [
    "# Convierte este string a un titulo\n",
    "\n",
    "new_sentence.title()"
   ]
  },
  {
   "cell_type": "code",
   "execution_count": 3,
   "metadata": {},
   "outputs": [
    {
     "data": {
      "text/plain": [
       "'Hola, todo el mundo!'"
      ]
     },
     "execution_count": 3,
     "metadata": {},
     "output_type": "execute_result"
    }
   ],
   "source": [
    "# Capitalización\n",
    "\n",
    "new_sentence.capitalize()"
   ]
  },
  {
   "cell_type": "code",
   "execution_count": 15,
   "metadata": {},
   "outputs": [
    {
     "data": {
      "text/plain": [
       "'HI, EVERYBODY!'"
      ]
     },
     "execution_count": 15,
     "metadata": {},
     "output_type": "execute_result"
    }
   ],
   "source": [
    "# Convert el string a todo mayúsculas\n",
    "\n",
    "new_sentence.upper()"
   ]
  },
  {
   "cell_type": "code",
   "execution_count": 4,
   "metadata": {},
   "outputs": [
    {
     "data": {
      "text/plain": [
       "1"
      ]
     },
     "execution_count": 4,
     "metadata": {},
     "output_type": "execute_result"
    }
   ],
   "source": [
    "# Número de veces que un valor en particular sucede en un string\n",
    "\n",
    "new_sentence.count('h')"
   ]
  },
  {
   "cell_type": "code",
   "execution_count": 5,
   "metadata": {},
   "outputs": [
    {
     "data": {
      "text/plain": [
       "['hola,', 'todo', 'el', 'mundo!']"
      ]
     },
     "execution_count": 5,
     "metadata": {},
     "output_type": "execute_result"
    }
   ],
   "source": [
    "# Speparando el string\n",
    "\n",
    "new_sentence.split()"
   ]
  },
  {
   "cell_type": "markdown",
   "metadata": {},
   "source": [
    "<a name='boolean'></a>\n",
    "### 1.3 Booleanos en Python "
   ]
  },
  {
   "cell_type": "markdown",
   "metadata": {},
   "source": [
    "Los Booleanos representan uno de dos valores: `True`(Verdadero) or `False`(Falso)"
   ]
  },
  {
   "cell_type": "code",
   "execution_count": 6,
   "metadata": {},
   "outputs": [
    {
     "name": "stdout",
     "output_type": "stream",
     "text": [
      "False\n"
     ]
    }
   ],
   "source": [
    "# Mayor o igual \n",
    "\n",
    "print(2 >= 4)"
   ]
  },
  {
   "cell_type": "code",
   "execution_count": 7,
   "metadata": {},
   "outputs": [
    {
     "name": "stdout",
     "output_type": "stream",
     "text": [
      "False\n",
      "True\n"
     ]
    }
   ],
   "source": [
    "# Chequear igualdad\n",
    "\n",
    "print(2 == 4)\n",
    "print(2 == 2)"
   ]
  },
  {
   "cell_type": "code",
   "execution_count": 8,
   "metadata": {},
   "outputs": [
    {
     "data": {
      "text/plain": [
       "True"
      ]
     },
     "execution_count": 8,
     "metadata": {},
     "output_type": "execute_result"
    }
   ],
   "source": [
    "bool('hello')"
   ]
  },
  {
   "cell_type": "code",
   "execution_count": 9,
   "metadata": {},
   "outputs": [
    {
     "name": "stdout",
     "output_type": "stream",
     "text": [
      "False False False False False False False\n"
     ]
    }
   ],
   "source": [
    "print(bool(False), bool(None),bool(0), bool(\"\"), bool(()), bool([]), bool({}))"
   ]
  },
  {
   "cell_type": "markdown",
   "metadata": {},
   "source": [
    "<a name='list'></a>\n",
    "### 1.4 List in Python "
   ]
  },
  {
   "cell_type": "markdown",
   "metadata": {},
   "source": [
    "Las listas son un tipo de estructura de datos que puede contener más de un tipo de objeto."
   ]
  },
  {
   "cell_type": "code",
   "execution_count": 10,
   "metadata": {},
   "outputs": [
    {
     "name": "stdout",
     "output_type": "stream",
     "text": [
      "<class 'list'>\n",
      "['Mon', 'Tue', 'Wed', 'Thur', 'Friday', 'Sat', 'Sun']\n"
     ]
    }
   ],
   "source": [
    "# Example of list\n",
    "\n",
    "days_name = ['Mon', 'Tue', 'Wed', 'Thur', 'Friday', 'Sat', 'Sun']\n",
    "days_num = [1, 20, -11, 32, 5, 2, 7]\n",
    "\n",
    "print(type(days_num))\n",
    "print(days_name)"
   ]
  },
  {
   "cell_type": "code",
   "execution_count": 11,
   "metadata": {},
   "outputs": [
    {
     "data": {
      "text/plain": [
       "'Wed'"
      ]
     },
     "execution_count": 11,
     "metadata": {},
     "output_type": "execute_result"
    }
   ],
   "source": [
    "days_name[2]"
   ]
  },
  {
   "cell_type": "code",
   "execution_count": 12,
   "metadata": {},
   "outputs": [
    {
     "data": {
      "text/plain": [
       "['Mon', 'Tue', 'Wed', 'Thur', 'Friday']"
      ]
     },
     "execution_count": 12,
     "metadata": {},
     "output_type": "execute_result"
    }
   ],
   "source": [
    "days_name[:5]"
   ]
  },
  {
   "cell_type": "markdown",
   "metadata": {},
   "source": [
    "<hr>\n",
    "<span style=\"color:#151D3B; font-weight:bold\">Pregunta: 🤔</span><p>\n",
    "Cuál es el resultado de\n",
    "\n",
    "``` Python\n",
    "days_num + [2]\n",
    "```\n",
    "<hr>"
   ]
  },
  {
   "cell_type": "code",
   "execution_count": 25,
   "metadata": {},
   "outputs": [],
   "source": [
    "# Respuesta\n"
   ]
  },
  {
   "cell_type": "markdown",
   "metadata": {},
   "source": [
    "<hr>\n",
    "<span style=\"color:#151D3B; font-weight:bold\">Pregunta: 🤔</span><p>\n",
    "Cuál es el resultado de\n",
    "\n",
    "``` Python\n",
    "days_num[2] + 2\n",
    "```\n",
    "<hr>"
   ]
  },
  {
   "cell_type": "code",
   "execution_count": 13,
   "metadata": {},
   "outputs": [],
   "source": [
    "# Respuesta\n"
   ]
  },
  {
   "cell_type": "code",
   "execution_count": 27,
   "metadata": {},
   "outputs": [
    {
     "data": {
      "text/plain": [
       "7"
      ]
     },
     "execution_count": 27,
     "metadata": {},
     "output_type": "execute_result"
    }
   ],
   "source": [
    "len(days_num)"
   ]
  },
  {
   "cell_type": "markdown",
   "metadata": {},
   "source": [
    "<div class=\"alert alert-block alert-warning\">\n",
    "<b>Recuerda:</b> Cada objeto tiene sus propios métodos y atributos.\n",
    "</div>"
   ]
  },
  {
   "cell_type": "code",
   "execution_count": 14,
   "metadata": {},
   "outputs": [
    {
     "data": {
      "text/plain": [
       "[1, 20, -11, 32, 5, 2, 7, 30]"
      ]
     },
     "execution_count": 14,
     "metadata": {},
     "output_type": "execute_result"
    }
   ],
   "source": [
    "# Appendear a una lista \n",
    "\n",
    "days_num.append(30)\n",
    "days_num"
   ]
  },
  {
   "cell_type": "code",
   "execution_count": 15,
   "metadata": {},
   "outputs": [
    {
     "data": {
      "text/plain": [
       "[30, 7, 2, 5, 32, -11, 20, 1]"
      ]
     },
     "execution_count": 15,
     "metadata": {},
     "output_type": "execute_result"
    }
   ],
   "source": [
    "# Revertir una lista\n",
    "\n",
    "days_num.reverse()\n",
    "days_num"
   ]
  },
  {
   "cell_type": "code",
   "execution_count": 16,
   "metadata": {},
   "outputs": [
    {
     "data": {
      "text/plain": [
       "[-11, 1, 2, 5, 7, 20, 30, 32]"
      ]
     },
     "execution_count": 16,
     "metadata": {},
     "output_type": "execute_result"
    }
   ],
   "source": [
    "# Sort (ordenar) una lista\n",
    "\n",
    "days_num.sort()\n",
    "days_num"
   ]
  },
  {
   "cell_type": "markdown",
   "metadata": {},
   "source": [
    "<div class=\"alert alert-block alert-danger\">\n",
    "<b>Peligro:</b> Los métodos aquí actúan \"en el lugar\". Es decir que cambian el objeto que los llama\n",
    "</div>"
   ]
  },
  {
   "cell_type": "code",
   "execution_count": 17,
   "metadata": {},
   "outputs": [
    {
     "data": {
      "text/plain": [
       "[-11, 1, 2, 5, 7, 20, 32]"
      ]
     },
     "execution_count": 17,
     "metadata": {},
     "output_type": "execute_result"
    }
   ],
   "source": [
    "# Remover un elemento de la lista por su valor\n",
    "\n",
    "a = days_num.remove(30)\n",
    "days_num\n"
   ]
  },
  {
   "cell_type": "code",
   "execution_count": 32,
   "metadata": {},
   "outputs": [
    {
     "data": {
      "text/plain": [
       "[1, 2, 5, 7, 20, 32]"
      ]
     },
     "execution_count": 32,
     "metadata": {},
     "output_type": "execute_result"
    }
   ],
   "source": [
    "# Remover un element de la lista por su índice\n",
    "\n",
    "b = days_num.pop(0)\n",
    "days_num"
   ]
  },
  {
   "cell_type": "code",
   "execution_count": 18,
   "metadata": {},
   "outputs": [
    {
     "name": "stdout",
     "output_type": "stream",
     "text": [
      "None\n"
     ]
    },
    {
     "ename": "NameError",
     "evalue": "name 'b' is not defined",
     "output_type": "error",
     "traceback": [
      "\u001b[0;31m---------------------------------------------------------------------------\u001b[0m",
      "\u001b[0;31mNameError\u001b[0m                                 Traceback (most recent call last)",
      "\u001b[0;32m/tmp/ipykernel_26902/3898377154.py\u001b[0m in \u001b[0;36m<module>\u001b[0;34m\u001b[0m\n\u001b[1;32m      1\u001b[0m \u001b[0;31m# days_num.remove() devuelve None, pero days_num.pop() devuelve el elemento eliminado.\u001b[0m\u001b[0;34m\u001b[0m\u001b[0;34m\u001b[0m\u001b[0m\n\u001b[1;32m      2\u001b[0m \u001b[0mprint\u001b[0m\u001b[0;34m(\u001b[0m\u001b[0ma\u001b[0m\u001b[0;34m)\u001b[0m\u001b[0;34m\u001b[0m\u001b[0;34m\u001b[0m\u001b[0m\n\u001b[0;32m----> 3\u001b[0;31m \u001b[0mprint\u001b[0m\u001b[0;34m(\u001b[0m\u001b[0mb\u001b[0m\u001b[0;34m)\u001b[0m\u001b[0;34m\u001b[0m\u001b[0;34m\u001b[0m\u001b[0m\n\u001b[0m",
      "\u001b[0;31mNameError\u001b[0m: name 'b' is not defined"
     ]
    }
   ],
   "source": [
    "# days_num.remove() devuelve None, pero days_num.pop() devuelve el elemento eliminado.\n",
    "print(a)\n",
    "print(b)"
   ]
  },
  {
   "cell_type": "markdown",
   "metadata": {},
   "source": [
    "<a href='https://www.w3schools.com/python/python_ref_list.asp'> Referencia</a> para métodos de listas."
   ]
  },
  {
   "cell_type": "markdown",
   "metadata": {},
   "source": [
    "<a name='dict'></a>\n",
    "### 1.5 Diccionario en Python "
   ]
  },
  {
   "cell_type": "markdown",
   "metadata": {},
   "source": [
    "Los diccionarios se utilizan para almacenar valores de datos en pares `clave:valor`.\n"
   ]
  },
  {
   "cell_type": "code",
   "execution_count": 34,
   "metadata": {},
   "outputs": [
    {
     "name": "stdout",
     "output_type": "stream",
     "text": [
      "{'Name': 'Iran', 'population': 83.99, 'area': 1.648}\n"
     ]
    }
   ],
   "source": [
    "# Ejemplo de diccionario\n",
    "\n",
    "iran = {\n",
    "    'Name': 'Iran',\n",
    "    'population': 83.99,\n",
    "    'area': 1.648\n",
    "}\n",
    "\n",
    "print(iran)"
   ]
  },
  {
   "cell_type": "code",
   "execution_count": 19,
   "metadata": {},
   "outputs": [
    {
     "ename": "NameError",
     "evalue": "name 'iran' is not defined",
     "output_type": "error",
     "traceback": [
      "\u001b[0;31m---------------------------------------------------------------------------\u001b[0m",
      "\u001b[0;31mNameError\u001b[0m                                 Traceback (most recent call last)",
      "\u001b[0;32m/tmp/ipykernel_26902/732753982.py\u001b[0m in \u001b[0;36m<module>\u001b[0;34m\u001b[0m\n\u001b[1;32m      1\u001b[0m \u001b[0;31m# Obtener las keys (claves) de un diccionario\u001b[0m\u001b[0;34m\u001b[0m\u001b[0;34m\u001b[0m\u001b[0m\n\u001b[1;32m      2\u001b[0m \u001b[0;34m\u001b[0m\u001b[0m\n\u001b[0;32m----> 3\u001b[0;31m \u001b[0miran\u001b[0m\u001b[0;34m.\u001b[0m\u001b[0mkeys\u001b[0m\u001b[0;34m(\u001b[0m\u001b[0;34m)\u001b[0m\u001b[0;34m\u001b[0m\u001b[0;34m\u001b[0m\u001b[0m\n\u001b[0m",
      "\u001b[0;31mNameError\u001b[0m: name 'iran' is not defined"
     ]
    }
   ],
   "source": [
    "# Obtener las keys (claves) de un diccionario\n",
    "\n",
    "iran.keys()"
   ]
  },
  {
   "cell_type": "code",
   "execution_count": 20,
   "metadata": {},
   "outputs": [
    {
     "ename": "NameError",
     "evalue": "name 'iran' is not defined",
     "output_type": "error",
     "traceback": [
      "\u001b[0;31m---------------------------------------------------------------------------\u001b[0m",
      "\u001b[0;31mNameError\u001b[0m                                 Traceback (most recent call last)",
      "\u001b[0;32m/tmp/ipykernel_26902/199579932.py\u001b[0m in \u001b[0;36m<module>\u001b[0;34m\u001b[0m\n\u001b[1;32m      1\u001b[0m \u001b[0;31m# Otener los valores de un diccionario\u001b[0m\u001b[0;34m\u001b[0m\u001b[0;34m\u001b[0m\u001b[0m\n\u001b[1;32m      2\u001b[0m \u001b[0;34m\u001b[0m\u001b[0m\n\u001b[0;32m----> 3\u001b[0;31m \u001b[0miran\u001b[0m\u001b[0;34m.\u001b[0m\u001b[0mvalues\u001b[0m\u001b[0;34m(\u001b[0m\u001b[0;34m)\u001b[0m\u001b[0;34m\u001b[0m\u001b[0;34m\u001b[0m\u001b[0m\n\u001b[0m",
      "\u001b[0;31mNameError\u001b[0m: name 'iran' is not defined"
     ]
    }
   ],
   "source": [
    "# Otener los valores de un diccionario\n",
    "\n",
    "iran.values()\n"
   ]
  },
  {
   "cell_type": "code",
   "execution_count": 37,
   "metadata": {},
   "outputs": [
    {
     "data": {
      "text/plain": [
       "dict_items([('Name', 'Iran'), ('population', 83.99), ('area', 1.648)])"
      ]
     },
     "execution_count": 37,
     "metadata": {},
     "output_type": "execute_result"
    }
   ],
   "source": [
    "# Obtener los items de un diccionario\n",
    "\n",
    "iran.items()\n"
   ]
  },
  {
   "cell_type": "markdown",
   "metadata": {},
   "source": [
    "<a href='https://www.w3schools.com/python/python_ref_dictionary.asp'> Referencia</a> para métodos de diccionario."
   ]
  },
  {
   "cell_type": "code",
   "execution_count": 38,
   "metadata": {},
   "outputs": [],
   "source": [
    "countries = {\n",
    "    'Iran ': {\n",
    "        'population': 83.99,\n",
    "        'area': 1.648e6\n",
    "        },\n",
    "    'Canada': {\n",
    "             'population': 38.01 ,\n",
    "             'area': 9.985e6\n",
    "             },\n",
    "    'Spain': {\n",
    "        'population': 47.35,\n",
    "        'area': 505.990\n",
    "    },\n",
    "    }"
   ]
  },
  {
   "cell_type": "code",
   "execution_count": 39,
   "metadata": {},
   "outputs": [
    {
     "data": {
      "text/plain": [
       "{'population': 38.01, 'area': 9985000.0}"
      ]
     },
     "execution_count": 39,
     "metadata": {},
     "output_type": "execute_result"
    }
   ],
   "source": [
    "countries['Canada']"
   ]
  },
  {
   "cell_type": "markdown",
   "metadata": {},
   "source": [
    "<hr>\n",
    "<span style=\"color:#151D3B; font-weight:bold\">Pregunta: 🤔</span><p>\n",
    "Cuál es el problema con la línea siguiente de código?: \n",
    "    \n",
    "<code>countries['Iran']['population']</code>\n",
    "    \n",
    "<hr>"
   ]
  },
  {
   "cell_type": "code",
   "execution_count": 40,
   "metadata": {},
   "outputs": [],
   "source": [
    "# Respuesta\n"
   ]
  },
  {
   "cell_type": "markdown",
   "metadata": {},
   "source": [
    "<a name='tuple'></a>\n",
    "### 1.6 Tuplas en Python "
   ]
  },
  {
   "cell_type": "markdown",
   "metadata": {},
   "source": [
    "Las tuplas son similares a las listas, pero son `inmutables`, lo que significa que no se pueden cambiar."
   ]
  },
  {
   "cell_type": "code",
   "execution_count": 41,
   "metadata": {},
   "outputs": [
    {
     "data": {
      "text/plain": [
       "(1, 'b')"
      ]
     },
     "execution_count": 41,
     "metadata": {},
     "output_type": "execute_result"
    }
   ],
   "source": [
    "var_tuple1 = (1, 'b')\n",
    "var_tuple1"
   ]
  },
  {
   "cell_type": "code",
   "execution_count": 42,
   "metadata": {},
   "outputs": [
    {
     "data": {
      "text/plain": [
       "1"
      ]
     },
     "execution_count": 42,
     "metadata": {},
     "output_type": "execute_result"
    }
   ],
   "source": [
    "# Indexación\n",
    "\n",
    "var_tuple1[0]"
   ]
  },
  {
   "cell_type": "code",
   "execution_count": 43,
   "metadata": {},
   "outputs": [],
   "source": [
    "# Las tuples no pueden ser cambiadas después de haber sido creadas\n",
    "\n",
    "# var_tuple1[0] = 2"
   ]
  },
  {
   "cell_type": "markdown",
   "metadata": {},
   "source": [
    "<a name='set'></a>\n",
    "### 1.7 Sets en Python "
   ]
  },
  {
   "cell_type": "markdown",
   "metadata": {},
   "source": [
    "Los set, o conjuntos en Python son colecciones desordenadas de elementos únicos, similares a los diccionarios pero sin claves, y ofrecen pruebas de pertenencia rápidas."
   ]
  },
  {
   "cell_type": "code",
   "execution_count": 44,
   "metadata": {},
   "outputs": [],
   "source": [
    "set_var1 = {9, 1, 1, '4', 4, 100, False, False, 100, 3, 'a', None}\n",
    "set_var2 = {9, 1, '4', 4, None, 100, 3, 'a', False}"
   ]
  },
  {
   "cell_type": "code",
   "execution_count": 45,
   "metadata": {},
   "outputs": [
    {
     "data": {
      "text/plain": [
       "True"
      ]
     },
     "execution_count": 45,
     "metadata": {},
     "output_type": "execute_result"
    }
   ],
   "source": [
    "set_var1 == set_var2"
   ]
  },
  {
   "cell_type": "markdown",
   "metadata": {},
   "source": [
    "<span style=\"color:red; font-weight:bold;\"> Note:</span> \n",
    "\n",
    "- Los sets solo tienen únicos valores\n",
    "- El orden no es importante"
   ]
  },
  {
   "cell_type": "markdown",
   "metadata": {},
   "source": [
    "<a name='operators'></a>\n",
    "## 2.Operadores en Python\n"
   ]
  },
  {
   "cell_type": "markdown",
   "metadata": {},
   "source": [
    "<a name='comparison'></a>\n",
    "### 2.1 Operador de comparación\n"
   ]
  },
  {
   "cell_type": "markdown",
   "metadata": {},
   "source": [
    "Los operadores de comparación son usados para comparar dos valores\n",
    "\n",
    "|Operador|Nombre|Ejemplo|\n",
    "|:-:|:-:|:-:|\n",
    "|==     |Igual a     |    `x == y`     |\n",
    "|!=     |Distinto de    |`x != y`    |\n",
    "|>     |Mayor que      |    `x > y`     |\n",
    "|<     |Menor que     |`x < y`    |\n",
    "|>=     |Mayor o igual a      |    `x >= y`     |\n",
    "|<=     |Menor o igual a     |`x <= y`    |"
   ]
  },
  {
   "cell_type": "code",
   "execution_count": 46,
   "metadata": {},
   "outputs": [
    {
     "name": "stdout",
     "output_type": "stream",
     "text": [
      "False\n",
      "False\n",
      "True\n"
     ]
    }
   ],
   "source": [
    "print(2 == '2')\n",
    "print(2 > 3)\n",
    "print(2 < 3)"
   ]
  },
  {
   "cell_type": "markdown",
   "metadata": {},
   "source": [
    "<a name='logical'></a>\n",
    "### 2.2Operadores lógicos \n"
   ]
  },
  {
   "cell_type": "markdown",
   "metadata": {},
   "source": [
    "Los operadores lógicos se utilizan para combinar declaraciones condicionales:\n",
    "\n",
    "- `and` devuelve `True` si ambas declaraciones son `True`.\n",
    "\n",
    "- `or` devuelve `True` si una de las declaraciones es `True`.\n",
    "\n",
    "- `not` invierte el resultado, devuelve `False` si el resultado es `True`.\n"
   ]
  },
  {
   "cell_type": "code",
   "execution_count": 47,
   "metadata": {},
   "outputs": [
    {
     "data": {
      "text/plain": [
       "True"
      ]
     },
     "execution_count": 47,
     "metadata": {},
     "output_type": "execute_result"
    }
   ],
   "source": [
    "not(2 > 5 and 4 > 12)"
   ]
  },
  {
   "cell_type": "markdown",
   "metadata": {},
   "source": [
    "<a name='membership'></a>\n",
    "### 2.3 Operadores de pertenencia\n"
   ]
  },
  {
   "cell_type": "markdown",
   "metadata": {},
   "source": [
    "Los operadores de pertenencia se utilizan para probar si una secuencia está presente en un objeto:\n",
    "\n",
    "- `in` devuelve `True` si una secuencia con el valor especificado está presente en el objeto.\n",
    "\n",
    "- `not in` devuelve `True` si una secuencia con el valor especificado no está presente en el objeto.\n",
    "\n"
   ]
  },
  {
   "cell_type": "code",
   "execution_count": 48,
   "metadata": {},
   "outputs": [
    {
     "data": {
      "text/plain": [
       "True"
      ]
     },
     "execution_count": 48,
     "metadata": {},
     "output_type": "execute_result"
    }
   ],
   "source": [
    "2 not in [1, '2', 3]"
   ]
  },
  {
   "cell_type": "code",
   "execution_count": 49,
   "metadata": {},
   "outputs": [
    {
     "data": {
      "text/plain": [
       "True"
      ]
     },
     "execution_count": 49,
     "metadata": {},
     "output_type": "execute_result"
    }
   ],
   "source": [
    "2 in [1, 2, 3]"
   ]
  },
  {
   "cell_type": "markdown",
   "metadata": {},
   "source": [
    "<a name='bitwise'></a>\n",
    "### 2.4 Operadores bit a bit\n"
   ]
  },
  {
   "cell_type": "markdown",
   "metadata": {},
   "source": [
    "Bitwise operators are used to compare (binary) numbers.\n",
    "\n",
    "Comparison operators are used to compare two values\n",
    "\n",
    "|Operator|Name|Description|\n",
    "|:-:|:-:|:-:|\n",
    "|&     |AND     |    Sets each bit to 1 if both bits are 1     |\n",
    "| \\|    |OR     | Sets each bit to 1 if one of two bits is 1    |\n",
    "| ^    |XOR      |    Sets each bit to 1 if only one of two bits is 1    |\n",
    "| ~    |NOT     |  Inverts all the bits    |\n",
    "| <<   |Zero fill left shift     |    Shift left by pushing zeros in from the right   |\n",
    "| >>   |Signed right shift   |Shift right by pushing copies of the leftmost bit in from the left, and let the rightmost bits fall off    |\n"
   ]
  },
  {
   "cell_type": "markdown",
   "metadata": {},
   "source": [
    "We can reperesent a number like `5` in binary as\n",
    "\n",
    "<table>\n",
    "      <tr>\n",
    "            <td>1</td>\n",
    "            <td>0</td>\n",
    "            <td>1</td>\n",
    "      </tr>\n",
    "\n",
    "</table>\n",
    "\n",
    "where `6` is\n",
    "\n",
    "<table>\n",
    "      <tr>\n",
    "            <td>1</td>\n",
    "            <td>1</td>\n",
    "            <td>0</td>\n",
    "      </tr>\n",
    "\n",
    "</table>\n",
    "\n",
    "So, the intersection is \n",
    "\n",
    "<table>\n",
    "      <tr>\n",
    "            <td>1</td>\n",
    "            <td>0</td>\n",
    "            <td>0</td>\n",
    "      </tr>\n",
    "\n",
    "</table>\n",
    "\n",
    "which is `4` in decimal format.\n"
   ]
  },
  {
   "cell_type": "code",
   "execution_count": 50,
   "metadata": {},
   "outputs": [
    {
     "data": {
      "text/plain": [
       "4"
      ]
     },
     "execution_count": 50,
     "metadata": {},
     "output_type": "execute_result"
    }
   ],
   "source": [
    "5 & 6"
   ]
  },
  {
   "cell_type": "markdown",
   "metadata": {},
   "source": [
    "<hr>\n",
    "<span style=\"color:#151D3B; font-weight\n",
    ":bold\">Pregunta: 🤔</span>\n",
    "<p>\n",
    "Cuál es el resultado de la próxima linea de código?:\n",
    "\n",
    "```Python\n",
    "5 >> 1\n",
    "```\n",
    "<hr>"
   ]
  },
  {
   "cell_type": "code",
   "execution_count": 21,
   "metadata": {},
   "outputs": [],
   "source": [
    "# Respuesta\n"
   ]
  },
  {
   "cell_type": "markdown",
   "metadata": {},
   "source": [
    "<a name='control_flow'></a>\n",
    "## 3. Control de flujo\n"
   ]
  },
  {
   "cell_type": "markdown",
   "metadata": {},
   "source": [
    "Al igual que otros lenguajes, Python utiliza las declaraciones de control de flujo habituales, pero con algunas peculiaridades."
   ]
  },
  {
   "cell_type": "markdown",
   "metadata": {},
   "source": [
    "<a name='if'></a>\n",
    "### 3.1 Declaraciones `if` \n"
   ]
  },
  {
   "cell_type": "markdown",
   "metadata": {},
   "source": [
    "The most well-known statement is the `if` statement. \n",
    "\n",
    "```Python\n",
    "if condition1:\n",
    "  do something\n",
    "elif condition2:\n",
    "    do this\n",
    "else:\n",
    "  do this\n",
    "```"
   ]
  },
  {
   "cell_type": "code",
   "execution_count": 52,
   "metadata": {},
   "outputs": [
    {
     "name": "stdout",
     "output_type": "stream",
     "text": [
      "10 is really greater!\n"
     ]
    }
   ],
   "source": [
    "if 10 > 3.:\n",
    "    print(\"10 is really greater!\")\n",
    "else:\n",
    "    print(\"This would never be displayed.\")"
   ]
  },
  {
   "cell_type": "code",
   "execution_count": 53,
   "metadata": {},
   "outputs": [
    {
     "name": "stdout",
     "output_type": "stream",
     "text": [
      "12 is less than 20\n"
     ]
    }
   ],
   "source": [
    "x = int(input())\n",
    "\n",
    "if x > 20:\n",
    "    print(\"{} is greater than 20\".format(x))\n",
    "elif x < 20:\n",
    "    print(\"{} is less than 20\".format(x))\n",
    "else:\n",
    "    print(\"{} is equal to 20\".format(x))"
   ]
  },
  {
   "cell_type": "markdown",
   "metadata": {},
   "source": [
    "The `if` statement can be used in only one line as \n",
    "\n",
    "```Python\n",
    "'value_if_true' if condition else 'value_if_false'\n",
    "```\n",
    "or\n",
    "```Python\n",
    "('value_if_false', 'value_if_true')[condition] \n",
    "```"
   ]
  },
  {
   "cell_type": "code",
   "execution_count": 54,
   "metadata": {},
   "outputs": [
    {
     "data": {
      "text/plain": [
       "True"
      ]
     },
     "execution_count": 54,
     "metadata": {},
     "output_type": "execute_result"
    }
   ],
   "source": [
    "# Example of the first method\n",
    "\n",
    "a = [1, 2, 3, 6]\n",
    "\n",
    "True if 3 in a else False"
   ]
  },
  {
   "cell_type": "code",
   "execution_count": 55,
   "metadata": {},
   "outputs": [
    {
     "data": {
      "text/plain": [
       "True"
      ]
     },
     "execution_count": 55,
     "metadata": {},
     "output_type": "execute_result"
    }
   ],
   "source": [
    "# Example of the second method\n",
    "\n",
    "a = [1, 2, 3, 6]\n",
    "\n",
    "(False, True)[3 in a]\n"
   ]
  },
  {
   "cell_type": "markdown",
   "metadata": {},
   "source": [
    "<a name='match'></a>\n",
    "### 3.2 `match` statements\n"
   ]
  },
  {
   "cell_type": "markdown",
   "metadata": {},
   "source": [
    "The `match` statement is slightly similar to `switch` statement in C, Java, JavaScript, etc.\n",
    "\n",
    "\n",
    "```Python \n",
    "match var:\n",
    "    case first:\n",
    "        do this\n",
    "    case second:\n",
    "        do this\n",
    "```"
   ]
  },
  {
   "cell_type": "code",
   "execution_count": 56,
   "metadata": {},
   "outputs": [],
   "source": [
    "# Uncomment this cell if you're using Python version 3.10 or higher \n",
    "\n",
    "a = 2\n",
    "\n",
    "# match a:\n",
    "#     case '2':\n",
    "#         print('str')\n",
    "#     case 2:\n",
    "#         print('Number')\n",
    "        \n",
    "    "
   ]
  },
  {
   "cell_type": "markdown",
   "metadata": {},
   "source": [
    "<a name='for'></a>\n",
    "### 3.3 Bucles `for` \n"
   ]
  },
  {
   "cell_type": "markdown",
   "metadata": {},
   "source": [
    "Los bucles `for` son utilizados para hacer iteraciones cuando el límite está definido\n",
    "\n",
    "```Python\n",
    "for i in algo:\n",
    "    hacé alguna_cosa\n",
    "```"
   ]
  },
  {
   "cell_type": "code",
   "execution_count": 22,
   "metadata": {},
   "outputs": [
    {
     "name": "stdout",
     "output_type": "stream",
     "text": [
      "0\n",
      "1\n",
      "2\n",
      "3\n",
      "4\n"
     ]
    }
   ],
   "source": [
    "# Loop over a range \n",
    "\n",
    "for i in range(5):\n",
    "    print(i)"
   ]
  },
  {
   "cell_type": "code",
   "execution_count": 58,
   "metadata": {},
   "outputs": [
    {
     "name": "stdout",
     "output_type": "stream",
     "text": [
      "hi\n",
      "1\n",
      "True\n",
      "2j\n"
     ]
    }
   ],
   "source": [
    "# Iterar sobre una lista\n",
    "\n",
    "for word in ['hi', 1, True, 2j]:\n",
    "    print(word)"
   ]
  },
  {
   "cell_type": "code",
   "execution_count": 59,
   "metadata": {},
   "outputs": [
    {
     "name": "stdout",
     "output_type": "stream",
     "text": [
      "Iran  has 83.99  population!\n",
      "Canada has 38.01  population!\n",
      "Spain has 47.349999999999994  population!\n"
     ]
    }
   ],
   "source": [
    "countries = {\n",
    "    'Iran ': {\n",
    "        'population': 83.99e6,\n",
    "        'area': 1.648e6\n",
    "        },\n",
    "    'Canada': {\n",
    "             'population': 38.01e6 ,\n",
    "             'area': 9.985e6\n",
    "             },\n",
    "    'Spain': {\n",
    "        'population': 47.35e6,\n",
    "        'area': 505.990e3\n",
    "    },\n",
    "    }\n",
    "\n",
    "for country in countries:\n",
    "    print(country, 'has', countries[country]['population']*1e-6, \" population!\")"
   ]
  },
  {
   "cell_type": "markdown",
   "metadata": {},
   "source": [
    "<hr>\n",
    "<span style=\"color:#151D3B; font-weight\n",
    ":bold\">Pregunta: 🤔</span>\n",
    "<p>\n",
    "Escribe código para mostrar la densidad de personas en cada país\n",
    "\n",
    "\n",
    "<hr>"
   ]
  },
  {
   "cell_type": "code",
   "execution_count": 60,
   "metadata": {},
   "outputs": [],
   "source": [
    "# Respuesta\n"
   ]
  },
  {
   "cell_type": "code",
   "execution_count": 61,
   "metadata": {},
   "outputs": [],
   "source": [
    "# [print(country + ': ', countries[country]['population'] / countries[country]['area']) for country in countries];"
   ]
  },
  {
   "cell_type": "markdown",
   "metadata": {},
   "source": [
    "<a name='while'></a>\n",
    "### 3.4 Bucles `while` \n",
    "\n"
   ]
  },
  {
   "cell_type": "markdown",
   "metadata": {},
   "source": [
    "Los bucles `while` son utilizados para iterar siempre y cuando la condición sea verdaera (`True`).\n",
    "\n",
    "```Python\n",
    "while condición:\n",
    "    hacé alguna_cosa\n",
    "```"
   ]
  },
  {
   "cell_type": "code",
   "execution_count": 62,
   "metadata": {},
   "outputs": [
    {
     "name": "stdout",
     "output_type": "stream",
     "text": [
      "a is: 1\n",
      "a is: 2\n",
      "a is: 4\n",
      "a is: 8\n",
      "a is: 16\n"
     ]
    }
   ],
   "source": [
    "\n",
    "a = 1\n",
    "while a < 25:\n",
    "    print('a is: {}'.format(a))\n",
    "    a *= 2"
   ]
  },
  {
   "cell_type": "markdown",
   "metadata": {},
   "source": [
    "### [ARRIBA ☝️](#top)\n"
   ]
  },
  {
   "cell_type": "code",
   "execution_count": null,
   "metadata": {},
   "outputs": [],
   "source": []
  }
 ],
 "metadata": {
  "celltoolbar": "Edit Metadata",
  "interpreter": {
   "hash": "ece4c4f9c4961c7468795d846fc72c6e00987d764e9134aaba41ea0514f48bf6"
  },
  "kernelspec": {
   "display_name": "Python 3 (ipykernel)",
   "language": "python",
   "name": "python3"
  },
  "language_info": {
   "codemirror_mode": {
    "name": "ipython",
    "version": 3
   },
   "file_extension": ".py",
   "mimetype": "text/x-python",
   "name": "python",
   "nbconvert_exporter": "python",
   "pygments_lexer": "ipython3",
   "version": "3.9.7"
  }
 },
 "nbformat": 4,
 "nbformat_minor": 2
}
