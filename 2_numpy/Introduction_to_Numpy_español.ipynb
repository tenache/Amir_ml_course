{
 "cells": [
  {
   "cell_type": "markdown",
   "metadata": {},
   "source": [
    "<center>\n",
    "<table style=\"border:none\">\n",
    "    <tr style=\"border:none\">\n",
    "    <th style=\"border:none\">\n",
    "        <a  href='https://colab.research.google.com/github/AmirMardan/ml_course/blob/main/2_numpy/0_intro_to_numpy.ipynb'><img src='https://colab.research.google.com/assets/colab-badge.svg'></a>\n",
    "    </th>\n",
    "    <th style=\"border:none\">\n",
    "        <a  href='https://github1s.com/AmirMardan/ml_course/blob/main/2_numpy/0_intro_to_numpy.ipynb'><img src='../imgs/open_vscode.svg' height=20px width=115px></a>\n",
    "    </th>\n",
    "    </tr>\n",
    "</table>\n",
    "</center>\n",
    "\n",
    "\n",
    "This notebook is created by <a href='https://amirmardan.github.io'> Amir Mardan</a>. For any feedback or suggestion, please contact me via my <a href=\"mailto:mardan.amir.h@gmail.com\">email</a>, (mardan.amir.h@gmail.com).\n",
    "\n"
   ]
  },
  {
   "cell_type": "markdown",
   "metadata": {},
   "source": [
    "<center>\n",
    "<img src='img/numpy.png' width='300px'>\n",
    "</center>"
   ]
  },
  {
   "cell_type": "markdown",
   "metadata": {},
   "source": [
    "<a name='top'></a>\n",
    "# Introducción a  NumPy\n",
    "\n",
    "Este cuaderno cubrirá los siguientes temas:\n",
    "- [Introducción](#introduction)\n",
    "- [NumPy vs lista](#numpy_list)\n",
    "- [1. Creando un array NumPy](#creating)\n",
    "    - [Creando arrays desde listas](#creating_with_list)\n",
    "    - [Arrays especiales](#special_array)\n",
    "- [2. Atributos de arrays](#attributes_array)\n",
    "- [3. Selección de datos](#data_election)\n",
    "    - [Indexación de arrays](#indexing)\n",
    "    - [Corte de arrays](#slicing)\n",
    "    - [Vista vs copia de arrays](#view_copy)\n",
    "    - [Selección condicional](#conditional)\n",
    "- [4. Manipulación de arrays](#manipulation)\n",
    "    - [Forma de un array](#shape)\n",
    "    - [Uniendo arrays](#joining)\n",
    "    - [División de arrays](#splitting)\n",
    "- [5. Cálculo en arrays de NumPy](#computation)\n",
    "- [6. Agregaciones](#aggregations)\n",
    "    - [Suma](#summation)\n",
    "    - [Mínimo y máximo](#min_max)\n",
    "    - [Varianza y desviación estándar](#var_std)\n",
    "    - [Media y mediana](#mean_median)\n",
    "    - [Encontrar índice](#find_index)\n"
   ]
  },
  {
   "cell_type": "markdown",
   "metadata": {},
   "source": [
    "<a name='introduction'></a>\n",
    "## Introducción\n"
   ]
  },
  {
   "cell_type": "markdown",
   "metadata": {},
   "source": [
    "NumPy es una biblioteca para trabajar con grandes matrices y arreglos multidimensionales. \n",
    "Fue creado por **Travis Oliphant**, lanzado por primera vez en 1995 como *Numeric* y cambió a *NumPy* en 2006.\n",
    "\n",
    "<center><img src='./img/travis.jpeg' alt='tavis' width=300px></center>\n",
    "\n",
    "El objeto de array en NumPy se llama `ndarray`\n"
   ]
  },
  {
   "cell_type": "markdown",
   "metadata": {},
   "source": [
    "<a name='numpy_list'></a>\n",
    "## NumPy vs list \n"
   ]
  },
  {
   "cell_type": "markdown",
   "metadata": {},
   "source": [
    "**Ventajas de usar matrices NumPy sobre listas de Python**\n",
    "\n",
    "- Numpy ocupa menos memoria.\n",
    "- Numpy es más rápido.\n",
    "- Numpy tiene una mejor funcionalidad.\n",
    "\n",
    "Vamos a comprobar si estas afirmaciones son ciertas. Pero primero, necesitamos indicarle a Python que queremos usar NumPy. Para hacerlo, importamos este paquete. Generalmente, un paquete de Python se importa al comienzo de un script de la siguiente manera:\n",
    "\n",
    "```python\n",
    "import numpy\n",
    "```\n",
    "Para mayor comodidad, Python nos permite elegir un alias para el módulo que importamos utilizando la palabra clave as:\n",
    "\n",
    "```Python\n",
    " import numpy as np\n",
    "    \n",
    "```"
   ]
  },
  {
   "cell_type": "code",
   "execution_count": 14,
   "metadata": {
    "scrolled": true
   },
   "outputs": [
    {
     "name": "stdout",
     "output_type": "stream",
     "text": [
      "<class 'list'> <class 'numpy.ndarray'>\n"
     ]
    }
   ],
   "source": [
    "# Import numpy \n",
    "\n",
    "import numpy as np\n",
    "\n",
    "n = 1000\n",
    "\n",
    "# Make an array of zeros\n",
    "numpy_version = np.zeros(n)\n",
    "\n",
    "list_version = list(numpy_version)\n",
    "\n",
    "print(type(list_version), type(numpy_version))"
   ]
  },
  {
   "cell_type": "markdown",
   "metadata": {},
   "source": [
    "<div class=\"alert alert-block alert-danger\">\n",
    "<b>Peligro:</b> ¡Ten en cuenta que la adición de dos listas causa concatenación!\n",
    "</div>"
   ]
  },
  {
   "cell_type": "code",
   "execution_count": 15,
   "metadata": {},
   "outputs": [],
   "source": [
    "def numpy_based():\n",
    "    return  numpy_version + 5\n",
    "    \n",
    "    \n",
    "def list_based():\n",
    "    return [list_version[i] + 5 for i in range(len(list_version))]"
   ]
  },
  {
   "cell_type": "code",
   "execution_count": 16,
   "metadata": {},
   "outputs": [
    {
     "name": "stdout",
     "output_type": "stream",
     "text": [
      "247 µs ± 12.3 µs per loop (mean ± std. dev. of 7 runs, 1000 loops each)\n",
      "2.16 µs ± 137 ns per loop (mean ± std. dev. of 7 runs, 100000 loops each)\n"
     ]
    }
   ],
   "source": [
    "%timeit list_based()\n",
    "%timeit numpy_based()\n"
   ]
  },
  {
   "cell_type": "markdown",
   "metadata": {},
   "source": [
    "En muchos materiales, vemos que se utiliza el ejemplo anterior para mostrar que NumPy es más rápido, pero la verdad es que la función `list_based` no está implementada correctamente. Escribámosla con `map()` como aprendimos en la introducción a Python.\n"
   ]
  },
  {
   "cell_type": "code",
   "execution_count": 17,
   "metadata": {},
   "outputs": [
    {
     "name": "stdout",
     "output_type": "stream",
     "text": [
      "229 ns ± 21.6 ns per loop (mean ± std. dev. of 7 runs, 1000000 loops each)\n",
      "1.78 µs ± 105 ns per loop (mean ± std. dev. of 7 runs, 1000000 loops each)\n",
      "Voila, list is faster now.\n"
     ]
    }
   ],
   "source": [
    "def list_based():\n",
    "    add = lambda a: a + 5\n",
    "    return map(add, list_version)\n",
    "\n",
    "\n",
    "%timeit list_based()\n",
    "%timeit numpy_based()\n",
    "print('Voila, list is faster now.')\n"
   ]
  },
  {
   "cell_type": "code",
   "execution_count": 18,
   "metadata": {
    "scrolled": true
   },
   "outputs": [
    {
     "name": "stdout",
     "output_type": "stream",
     "text": [
      "They're equal!\n",
      "NumPy:  (1000,) \n",
      "list:  (1000,)\n"
     ]
    }
   ],
   "source": [
    "# Let's check the size and values \n",
    "\n",
    "a = numpy_based()\n",
    "b = list_based()\n",
    "\n",
    "c = list(b)\n",
    "print(\"They're equal!\\nNumPy: \", a.shape, \"\\nlist: \", np.shape(c)) if [np.all(c == a)] else print('Wrong!') \n"
   ]
  },
  {
   "cell_type": "markdown",
   "metadata": {},
   "source": [
    "Pero sin duda, NumPy nos brinda más funcionalidad y los métodos de NumPy son más rápidos al utilizar matrices de NumPy."
   ]
  },
  {
   "cell_type": "code",
   "execution_count": 19,
   "metadata": {},
   "outputs": [],
   "source": [
    "def numpy_based():\n",
    "    return np.mean(numpy_version)\n",
    "\n",
    "\n",
    "def list_based():\n",
    "    return np.mean(list_version)\n"
   ]
  },
  {
   "cell_type": "code",
   "execution_count": 20,
   "metadata": {},
   "outputs": [
    {
     "name": "stdout",
     "output_type": "stream",
     "text": [
      "50.8 µs ± 4.05 µs per loop (mean ± std. dev. of 7 runs, 10000 loops each)\n",
      "7.7 µs ± 810 ns per loop (mean ± std. dev. of 7 runs, 100000 loops each)\n"
     ]
    }
   ],
   "source": [
    "%timeit list_based()\n",
    "%timeit numpy_based()"
   ]
  },
  {
   "cell_type": "markdown",
   "metadata": {},
   "source": [
    "<a name='creating'></a>\n",
    "## 1 . Creando un array de numpy\n"
   ]
  },
  {
   "cell_type": "markdown",
   "metadata": {},
   "source": [
    "`numpy.array` puede ser utilizado para crear un tensor\n",
    "\n",
    "<center><img src='img/Tensor_01.webp' alt='tensor' width=400px></center>"
   ]
  },
  {
   "cell_type": "code",
   "execution_count": 21,
   "metadata": {},
   "outputs": [
    {
     "name": "stdout",
     "output_type": "stream",
     "text": [
      "a =  2 ; shape:  0\n"
     ]
    }
   ],
   "source": [
    "# Create 0-D array\n",
    "\n",
    "a = np.array(2)\n",
    "\n",
    "print(\"a = \", a, \"; shape: \", a.ndim)"
   ]
  },
  {
   "cell_type": "markdown",
   "metadata": {},
   "source": [
    "<a name='creating_with_list'></a>\n",
    "### 1.1 Creando arrays a partir de listas\n",
    "\n"
   ]
  },
  {
   "cell_type": "markdown",
   "metadata": {},
   "source": [
    "Podemos utilizar `np.array()` para crear un array a partir de listas de Python\n",
    "\n",
    "```Python\n",
    "np.array(list_name)\n",
    "```"
   ]
  },
  {
   "cell_type": "code",
   "execution_count": 22,
   "metadata": {},
   "outputs": [
    {
     "data": {
      "text/plain": [
       "array([1. , 4.3, 8. , 9. ])"
      ]
     },
     "execution_count": 22,
     "metadata": {},
     "output_type": "execute_result"
    }
   ],
   "source": [
    "# Create 1-D 'float' array\n",
    "\n",
    "np.array([1.0, 4.3, 8., 9])"
   ]
  },
  {
   "cell_type": "markdown",
   "metadata": {},
   "source": [
    "We can use the parameter `dtype` to specify the type of data,\n",
    "\n",
    "```Python\n",
    "np.array(list_name, dtype=desired_type)\n",
    "```"
   ]
  },
  {
   "cell_type": "code",
   "execution_count": 23,
   "metadata": {},
   "outputs": [
    {
     "data": {
      "text/plain": [
       "array([1, 4, 8, 9], dtype=int32)"
      ]
     },
     "execution_count": 23,
     "metadata": {},
     "output_type": "execute_result"
    }
   ],
   "source": [
    "# Create 1-D 'int' array\n",
    "\n",
    "np.array([1.0, 4., 8., 9], dtype=np.int32)"
   ]
  },
  {
   "cell_type": "code",
   "execution_count": 24,
   "metadata": {},
   "outputs": [
    {
     "data": {
      "text/plain": [
       "array([[1., 4., 8., 9.],\n",
       "       [2., 4., 1., 3.]], dtype=float32)"
      ]
     },
     "execution_count": 24,
     "metadata": {},
     "output_type": "execute_result"
    }
   ],
   "source": [
    "# Create 2-D array\n",
    "\n",
    "np.array([[1.0, 4., 8., 9],\n",
    "          [2, 4, 1, 3]], dtype=np.float32)"
   ]
  },
  {
   "cell_type": "markdown",
   "metadata": {},
   "source": [
    "<a name='special_array'></a>\n",
    "### 1.2 Arrays especiales\n"
   ]
  },
  {
   "cell_type": "markdown",
   "metadata": {},
   "source": [
    "Es mejor utilizar métodos especiales en NumPy para matrices más grandes. Estas matrices especiales son:\n",
    "\n",
    "- Matriz de todos ceros\n",
    "- Matriz de todos unos\n",
    "- Matriz identidad\n",
    "- Matriz vacía\n",
    "- Matriz llena\n",
    "- Matriz aleatoria\n",
    "- Matrices basadas en un rango dado\n",
    "\n",
    "Por lo general, estas matrices se crean utilizando la siguiente sintaxis:\n",
    "\n",
    "```python\n",
    "np.array(shape=tupla_de_forma, dtype=tipo_de_dato)\n",
    "\n"
   ]
  },
  {
   "cell_type": "code",
   "execution_count": 25,
   "metadata": {},
   "outputs": [
    {
     "data": {
      "text/plain": [
       "array([[0., 0.],\n",
       "       [0., 0.],\n",
       "       [0., 0.],\n",
       "       [0., 0.],\n",
       "       [0., 0.]], dtype=float32)"
      ]
     },
     "execution_count": 25,
     "metadata": {},
     "output_type": "execute_result"
    }
   ],
   "source": [
    "# Creando un array de ceros\n",
    "\n",
    "np.zeros(shape=(5, 2), dtype=np.float32)"
   ]
  },
  {
   "cell_type": "code",
   "execution_count": 26,
   "metadata": {},
   "outputs": [
    {
     "data": {
      "text/plain": [
       "array([[0., 0.],\n",
       "       [0., 0.],\n",
       "       [0., 0.],\n",
       "       [0., 0.],\n",
       "       [0., 0.]], dtype=float32)"
      ]
     },
     "execution_count": 26,
     "metadata": {},
     "output_type": "execute_result"
    }
   ],
   "source": [
    "# Creando un array de ceros utilizando zero like\n",
    "\n",
    "np.zeros_like(np.ones(shape=(5, 2), dtype=np.float32))"
   ]
  },
  {
   "cell_type": "markdown",
   "metadata": {},
   "source": [
    "Para facilitarlo, podemos permitir que NumPy decida el tipo de datos para el resto de este cuaderno."
   ]
  },
  {
   "cell_type": "code",
   "execution_count": 27,
   "metadata": {},
   "outputs": [
    {
     "data": {
      "text/plain": [
       "array([[1., 1.],\n",
       "       [1., 1.],\n",
       "       [1., 1.],\n",
       "       [1., 1.],\n",
       "       [1., 1.]])"
      ]
     },
     "execution_count": 27,
     "metadata": {},
     "output_type": "execute_result"
    }
   ],
   "source": [
    "# CCreando un array de unos\n",
    "\n",
    "np.ones(shape=(5, 2))"
   ]
  },
  {
   "cell_type": "code",
   "execution_count": 28,
   "metadata": {},
   "outputs": [
    {
     "data": {
      "text/plain": [
       "array([[1., 0., 0., 0.],\n",
       "       [0., 1., 0., 0.],\n",
       "       [0., 0., 1., 0.],\n",
       "       [0., 0., 0., 1.],\n",
       "       [0., 0., 0., 0.]])"
      ]
     },
     "execution_count": 28,
     "metadata": {},
     "output_type": "execute_result"
    }
   ],
   "source": [
    "# Creando una matriz identidad\n",
    "# Note: np.eye no toma el shape como argumento\n",
    "\n",
    "np.eye(5, 4)"
   ]
  },
  {
   "cell_type": "code",
   "execution_count": 29,
   "metadata": {},
   "outputs": [
    {
     "data": {
      "text/plain": [
       "array([[1., 1.],\n",
       "       [1., 1.],\n",
       "       [1., 1.],\n",
       "       [1., 1.],\n",
       "       [1., 1.]])"
      ]
     },
     "execution_count": 29,
     "metadata": {},
     "output_type": "execute_result"
    }
   ],
   "source": [
    "# Creando un array vacio\n",
    "\n",
    "np.empty(shape=(5, 2))"
   ]
  },
  {
   "cell_type": "code",
   "execution_count": 30,
   "metadata": {},
   "outputs": [
    {
     "data": {
      "text/plain": [
       "array([[1., 1.],\n",
       "       [1., 1.],\n",
       "       [1., 1.],\n",
       "       [1., 1.],\n",
       "       [1., 1.]])"
      ]
     },
     "execution_count": 30,
     "metadata": {},
     "output_type": "execute_result"
    }
   ],
   "source": [
    "# Creando un array vacio utilizando empty like\n",
    "\n",
    "np.empty_like(np.zeros((5, 2)))"
   ]
  },
  {
   "cell_type": "code",
   "execution_count": 31,
   "metadata": {},
   "outputs": [
    {
     "data": {
      "text/plain": [
       "array([[ 0.17062204, -0.21492141],\n",
       "       [ 0.7155442 ,  0.39635688],\n",
       "       [ 0.59504293, -0.17271905],\n",
       "       [-0.22654837, -0.18984   ],\n",
       "       [-0.02881549, -0.45848519]])"
      ]
     },
     "execution_count": 31,
     "metadata": {},
     "output_type": "execute_result"
    }
   ],
   "source": [
    "# Creando una matriz de números aleatorios (distribución normal)\n",
    "\n",
    "np.random.normal(loc=0, scale=1, size=(5,2))"
   ]
  },
  {
   "cell_type": "code",
   "execution_count": 32,
   "metadata": {},
   "outputs": [
    {
     "data": {
      "text/plain": [
       "array([[0.75215207, 0.34983341],\n",
       "       [0.64344263, 0.58815099],\n",
       "       [0.26404833, 0.55362301],\n",
       "       [0.31052892, 0.47518967],\n",
       "       [0.82592835, 0.15964281]])"
      ]
     },
     "execution_count": 32,
     "metadata": {},
     "output_type": "execute_result"
    }
   ],
   "source": [
    "#Creando una matriz de números aleatorios (distribución uniforme)\n",
    "\n",
    "np.random.random((5, 2))"
   ]
  },
  {
   "cell_type": "markdown",
   "metadata": {},
   "source": [
    "<hr>\n",
    "<div>\n",
    "<span style=\"color:#151D3B; font-weight:bold\">Pregunta: 🤔</span><p>\n",
    "Genera una matriz con forma de [10, 10] y valores entre 5 y 7\n",
    "</div>\n",
    "<hr>"
   ]
  },
  {
   "cell_type": "code",
   "execution_count": 33,
   "metadata": {},
   "outputs": [],
   "source": [
    "# Respuesta\n",
    "\n"
   ]
  },
  {
   "cell_type": "code",
   "execution_count": 34,
   "metadata": {},
   "outputs": [
    {
     "data": {
      "text/plain": [
       "array([[0.70682547, 0.59455001],\n",
       "       [0.65518301, 0.67877073],\n",
       "       [0.95691894, 0.74693485],\n",
       "       [0.04928195, 0.21861677],\n",
       "       [0.7196692 , 0.18226771]])"
      ]
     },
     "execution_count": 34,
     "metadata": {},
     "output_type": "execute_result"
    }
   ],
   "source": [
    "# creando un array de numeros aleatorios\n",
    "\n",
    "np.random.rand(5, 2)"
   ]
  },
  {
   "cell_type": "code",
   "execution_count": 35,
   "metadata": {},
   "outputs": [
    {
     "data": {
      "text/plain": [
       "array([[1, 4],\n",
       "       [1, 1],\n",
       "       [2, 4],\n",
       "       [4, 1],\n",
       "       [1, 1]])"
      ]
     },
     "execution_count": 35,
     "metadata": {},
     "output_type": "execute_result"
    }
   ],
   "source": [
    "# Creando un array de numeros enteros al azar\n",
    "\n",
    "np.random.randint(low=1, high=5, size=(5, 2))"
   ]
  },
  {
   "cell_type": "code",
   "execution_count": 36,
   "metadata": {},
   "outputs": [
    {
     "data": {
      "text/plain": [
       "array([1. , 1.1, 1.2, 1.3, 1.4, 1.5, 1.6, 1.7, 1.8, 1.9, 2. , 2.1, 2.2,\n",
       "       2.3, 2.4, 2.5, 2.6, 2.7, 2.8, 2.9, 3. , 3.1, 3.2, 3.3, 3.4, 3.5,\n",
       "       3.6, 3.7, 3.8, 3.9])"
      ]
     },
     "execution_count": 36,
     "metadata": {},
     "output_type": "execute_result"
    }
   ],
   "source": [
    "# Creando un array en un rango especifico\n",
    "\n",
    "np.arange(start=1, stop=4, step=0.1)"
   ]
  },
  {
   "cell_type": "code",
   "execution_count": 37,
   "metadata": {},
   "outputs": [
    {
     "data": {
      "text/plain": [
       "array([1.        , 1.33333333, 1.66666667, 2.        , 2.33333333,\n",
       "       2.66666667, 3.        , 3.33333333, 3.66666667, 4.        ])"
      ]
     },
     "execution_count": 37,
     "metadata": {},
     "output_type": "execute_result"
    }
   ],
   "source": [
    "# Creating un array en un rango\n",
    "\n",
    "np.linspace(start=1, stop=4, num=10)"
   ]
  },
  {
   "cell_type": "code",
   "execution_count": 38,
   "metadata": {},
   "outputs": [
    {
     "data": {
      "text/plain": [
       "array([   10.        ,    21.5443469 ,    46.41588834,   100.        ,\n",
       "         215.443469  ,   464.15888336,  1000.        ,  2154.43469003,\n",
       "        4641.58883361, 10000.        ])"
      ]
     },
     "execution_count": 38,
     "metadata": {},
     "output_type": "execute_result"
    }
   ],
   "source": [
    "# Creating un array en un rango\n",
    "\n",
    "np.logspace(start=1, stop=4, num=10)"
   ]
  },
  {
   "cell_type": "markdown",
   "metadata": {},
   "source": [
    "<a name='attributes_array'></a>\n",
    "## 2. Atributos de los arrays\n"
   ]
  },
  {
   "cell_type": "markdown",
   "metadata": {},
   "source": [
    "Utilizamos atributos para determinar algunas propiedades de la matriz, como la forma, el tamaño, etc."
   ]
  },
  {
   "cell_type": "code",
   "execution_count": 39,
   "metadata": {},
   "outputs": [
    {
     "name": "stdout",
     "output_type": "stream",
     "text": [
      "[[11  6  6]\n",
      " [ 8  5  4]\n",
      " [ 5  1 10]\n",
      " [13  3  2]]\n"
     ]
    }
   ],
   "source": [
    "x = np.random.randint(14, size=(4, 3))\n",
    "\n",
    "print(x)"
   ]
  },
  {
   "cell_type": "code",
   "execution_count": 40,
   "metadata": {},
   "outputs": [
    {
     "name": "stdout",
     "output_type": "stream",
     "text": [
      "Dimensión:  2\n",
      "Forma:  (4, 3)\n",
      "Tamaño:  12\n",
      "Ttipo:  int64\n",
      "Tamaño del elemento:  8 bytes\n",
      "Tamaño del array:  96 bytes\n"
     ]
    }
   ],
   "source": [
    "print(\"Dimensión: \", x.ndim) \n",
    "print(\"Forma: \", x.shape) \n",
    "print(\"Tamaño: \", x.size) \n",
    "print(\"Ttipo: \", x.dtype)\n",
    "print(\"Tamaño del elemento: \", x.itemsize, 'bytes')  # Size of each element\n",
    "print(\"Tamaño del array: \", x.nbytes, 'bytes')  # Size of the array"
   ]
  },
  {
   "cell_type": "markdown",
   "metadata": {},
   "source": [
    "<a name='data_election'></a>\n",
    "## 3. Selección de data\n",
    " "
   ]
  },
  {
   "cell_type": "markdown",
   "metadata": {},
   "source": [
    "***Indexing*** se utiliza para seleccionar un elemento individual de una matriz.\n",
    "\n",
    "***Slicing*** se utiliza para seleccionar una parte de una matriz.\n"
   ]
  },
  {
   "cell_type": "markdown",
   "metadata": {},
   "source": [
    "<a name='indexing'></a>\n",
    "### 3.1 Indexación de arrays"
   ]
  },
  {
   "cell_type": "markdown",
   "metadata": {},
   "source": [
    "Por favor nota que Python empieza a contar desde el `0`."
   ]
  },
  {
   "cell_type": "code",
   "execution_count": 41,
   "metadata": {},
   "outputs": [
    {
     "data": {
      "text/plain": [
       "array([[0.26688969],\n",
       "       [0.13066217],\n",
       "       [0.08024198],\n",
       "       [0.36686186],\n",
       "       [0.34519473],\n",
       "       [0.04152749]])"
      ]
     },
     "execution_count": 41,
     "metadata": {},
     "output_type": "execute_result"
    }
   ],
   "source": [
    "x_1d = np.random.random((6, 1))\n",
    "x_1d"
   ]
  },
  {
   "cell_type": "code",
   "execution_count": 42,
   "metadata": {},
   "outputs": [
    {
     "data": {
      "text/plain": [
       "array([0.26688969])"
      ]
     },
     "execution_count": 42,
     "metadata": {},
     "output_type": "execute_result"
    }
   ],
   "source": [
    "# Accede al primer elemento \n",
    "\n",
    "x_1d[0]"
   ]
  },
  {
   "cell_type": "code",
   "execution_count": 43,
   "metadata": {},
   "outputs": [
    {
     "data": {
      "text/plain": [
       "array([0.04152749])"
      ]
     },
     "execution_count": 43,
     "metadata": {},
     "output_type": "execute_result"
    }
   ],
   "source": [
    "# Access el último elemento \n",
    "\n",
    "x_1d[-1]"
   ]
  },
  {
   "cell_type": "code",
   "execution_count": 44,
   "metadata": {},
   "outputs": [
    {
     "data": {
      "text/plain": [
       "array([[0.37453233, 0.58893994, 0.16378593, 0.63825367, 0.80099907],\n",
       "       [0.88408157, 0.60317711, 0.25537868, 0.97010006, 0.17170573],\n",
       "       [0.05004484, 0.33600363, 0.85743749, 0.82128264, 0.02675642],\n",
       "       [0.17148475, 0.52313175, 0.45518595, 0.37649852, 0.48386728]])"
      ]
     },
     "execution_count": 44,
     "metadata": {},
     "output_type": "execute_result"
    }
   ],
   "source": [
    "x_2d = np.random.random((4, 5))\n",
    "x_2d"
   ]
  },
  {
   "cell_type": "code",
   "execution_count": 45,
   "metadata": {},
   "outputs": [
    {
     "data": {
      "text/plain": [
       "0.3745323281363119"
      ]
     },
     "execution_count": 45,
     "metadata": {},
     "output_type": "execute_result"
    }
   ],
   "source": [
    "x_2d[0, 0]"
   ]
  },
  {
   "cell_type": "code",
   "execution_count": 46,
   "metadata": {},
   "outputs": [
    {
     "data": {
      "text/plain": [
       "0.3745323281363119"
      ]
     },
     "execution_count": 46,
     "metadata": {},
     "output_type": "execute_result"
    }
   ],
   "source": [
    "x_2d[0][0]"
   ]
  },
  {
   "cell_type": "markdown",
   "metadata": {},
   "source": [
    "<hr>\n",
    "<div>\n",
    "<span style=\"color:#151D3B; font-weight:bold\">Pregunta: 🤔</span><p>\n",
    "¿Cuál sería el resultado de <code>x_2d[0, 0]</code>?\n",
    "</div>\n",
    "<hr>"
   ]
  },
  {
   "cell_type": "code",
   "execution_count": 47,
   "metadata": {},
   "outputs": [],
   "source": [
    "# Rtta"
   ]
  },
  {
   "cell_type": "markdown",
   "metadata": {},
   "source": [
    "<a name='slicing'></a>\n",
    "### 3.2 Slicing de arrays "
   ]
  },
  {
   "cell_type": "markdown",
   "metadata": {},
   "source": [
    "\n",
    "\n",
    "Para realizar un slicing de una matriz unidimensional, utilizamos la siguiente sintaxis:\n",
    "\n",
    "```Python\n",
    "sliced = original[inicio:fin:paso]\n",
    "```\n",
    "Si no se da `paso`, se va a considerar como `1`\n"
   ]
  },
  {
   "cell_type": "code",
   "execution_count": 48,
   "metadata": {},
   "outputs": [
    {
     "data": {
      "text/plain": [
       "array([[0.26688969],\n",
       "       [0.13066217],\n",
       "       [0.08024198],\n",
       "       [0.36686186],\n",
       "       [0.34519473],\n",
       "       [0.04152749]])"
      ]
     },
     "execution_count": 48,
     "metadata": {},
     "output_type": "execute_result"
    }
   ],
   "source": [
    "x_1d"
   ]
  },
  {
   "cell_type": "code",
   "execution_count": 49,
   "metadata": {},
   "outputs": [
    {
     "data": {
      "text/plain": [
       "array([[0.13066217],\n",
       "       [0.08024198],\n",
       "       [0.36686186]])"
      ]
     },
     "execution_count": 49,
     "metadata": {},
     "output_type": "execute_result"
    }
   ],
   "source": [
    "# Especifica el inicio y el fin de la sección deseada por número\n",
    "\n",
    "x_1d[1:4]"
   ]
  },
  {
   "cell_type": "markdown",
   "metadata": {},
   "source": [
    "<div class=\"alert alert-block alert-info\">\n",
    "<b>Consejo:</b> Ten en cuenta que el elemento 1 está incluido, pero ese no es el caso para el elemento 4.</div>"
   ]
  },
  {
   "cell_type": "code",
   "execution_count": 50,
   "metadata": {},
   "outputs": [
    {
     "data": {
      "text/plain": [
       "array([[0.13066217],\n",
       "       [0.08024198],\n",
       "       [0.36686186],\n",
       "       [0.34519473],\n",
       "       [0.04152749]])"
      ]
     },
     "execution_count": 50,
     "metadata": {},
     "output_type": "execute_result"
    }
   ],
   "source": [
    "\"\"\"\n",
    "Especifica el inicio o el fin de la sección deseada que \n",
    "corresponda al inicio o al final de la matriz.\n",
    "\"\"\"\n",
    "\n",
    "x_1d[1:]"
   ]
  },
  {
   "cell_type": "code",
   "execution_count": 51,
   "metadata": {},
   "outputs": [
    {
     "data": {
      "text/plain": [
       "array([[0.13066217],\n",
       "       [0.36686186],\n",
       "       [0.04152749]])"
      ]
     },
     "execution_count": 51,
     "metadata": {},
     "output_type": "execute_result"
    }
   ],
   "source": [
    "# Indexación con paso mayor que 1\n",
    "\n",
    "x_1d[1::2]"
   ]
  },
  {
   "cell_type": "code",
   "execution_count": 52,
   "metadata": {},
   "outputs": [
    {
     "data": {
      "text/plain": [
       "array([[0.04152749],\n",
       "       [0.34519473],\n",
       "       [0.36686186],\n",
       "       [0.08024198],\n",
       "       [0.13066217]])"
      ]
     },
     "execution_count": 52,
     "metadata": {},
     "output_type": "execute_result"
    }
   ],
   "source": [
    "# Podemos invertir la matriz mediante la indexación.\n",
    "\n",
    "x_1d[-1:0:-1]"
   ]
  },
  {
   "cell_type": "code",
   "execution_count": 53,
   "metadata": {},
   "outputs": [
    {
     "data": {
      "text/plain": [
       "array([[0.97010006, 0.17170573],\n",
       "       [0.82128264, 0.02675642],\n",
       "       [0.37649852, 0.48386728]])"
      ]
     },
     "execution_count": 53,
     "metadata": {},
     "output_type": "execute_result"
    }
   ],
   "source": [
    "# Slicing en 2-D\n",
    "\n",
    "x_2d[1:, 3:5]"
   ]
  },
  {
   "cell_type": "markdown",
   "metadata": {},
   "source": [
    "<a name='view_copy'></a>\n",
    "### 3.3 Array view vs copia"
   ]
  },
  {
   "cell_type": "markdown",
   "metadata": {},
   "source": [
    "Una cosa extremadamente importante de saber es que los segmentos de una matriz devuelven *vistas* de los datos en lugar de *copias*. Esta es otra diferencia entre las matrices de NumPy y las listas de Python.\n"
   ]
  },
  {
   "cell_type": "code",
   "execution_count": 54,
   "metadata": {},
   "outputs": [
    {
     "name": "stdout",
     "output_type": "stream",
     "text": [
      "[[0.26688969]\n",
      " [0.13066217]\n",
      " [0.08024198]\n",
      " [0.36686186]\n",
      " [0.34519473]\n",
      " [0.04152749]]\n",
      "======== \n",
      " [[0.53377937]\n",
      " [0.13066217]\n",
      " [0.08024198]\n",
      " [0.36686186]\n",
      " [0.34519473]\n",
      " [0.04152749]]\n"
     ]
    }
   ],
   "source": [
    "print(x_1d)\n",
    "\n",
    "x_1d_sliced = x_1d[0]\n",
    "\n",
    "x_1d_sliced *= 2\n",
    "\n",
    "print(\"======== \\n\", x_1d)\n"
   ]
  },
  {
   "cell_type": "markdown",
   "metadata": {},
   "source": [
    "Para prevenir cualquier problema, debes usar el método `copy()`"
   ]
  },
  {
   "cell_type": "code",
   "execution_count": 55,
   "metadata": {},
   "outputs": [
    {
     "name": "stdout",
     "output_type": "stream",
     "text": [
      "[[0.53377937]\n",
      " [0.13066217]\n",
      " [0.08024198]\n",
      " [0.36686186]\n",
      " [0.34519473]\n",
      " [0.04152749]]\n",
      "======== \n",
      " [[0.53377937]\n",
      " [0.13066217]\n",
      " [0.08024198]\n",
      " [0.36686186]\n",
      " [0.34519473]\n",
      " [0.04152749]]\n"
     ]
    }
   ],
   "source": [
    "print(x_1d)\n",
    "\n",
    "x_1d_sliced = x_1d[0].copy()\n",
    "\n",
    "x_1d_sliced *= 2\n",
    "\n",
    "print(\"======== \\n\", x_1d)"
   ]
  },
  {
   "cell_type": "markdown",
   "metadata": {},
   "source": [
    "<a name='conditional'></a>\n",
    "### 3.4 Selección condicional"
   ]
  },
  {
   "cell_type": "markdown",
   "metadata": {},
   "source": [
    "Podemos usar una condición para seleccionar una parte de un arreglo.\n"
   ]
  },
  {
   "cell_type": "code",
   "execution_count": 56,
   "metadata": {},
   "outputs": [
    {
     "data": {
      "text/plain": [
       "array([[0.53377937],\n",
       "       [0.13066217],\n",
       "       [0.08024198],\n",
       "       [0.36686186],\n",
       "       [0.34519473],\n",
       "       [0.04152749]])"
      ]
     },
     "execution_count": 56,
     "metadata": {},
     "output_type": "execute_result"
    }
   ],
   "source": [
    "x_1d"
   ]
  },
  {
   "cell_type": "code",
   "execution_count": 57,
   "metadata": {},
   "outputs": [
    {
     "data": {
      "text/plain": [
       "array([[False],\n",
       "       [False],\n",
       "       [False],\n",
       "       [False],\n",
       "       [False],\n",
       "       [False]])"
      ]
     },
     "execution_count": 57,
     "metadata": {},
     "output_type": "execute_result"
    }
   ],
   "source": [
    "# Creemos una condicion\n",
    "\n",
    "cond = x_1d > 0.7\n",
    "cond"
   ]
  },
  {
   "cell_type": "code",
   "execution_count": 58,
   "metadata": {},
   "outputs": [
    {
     "data": {
      "text/plain": [
       "array([], dtype=float64)"
      ]
     },
     "execution_count": 58,
     "metadata": {},
     "output_type": "execute_result"
    }
   ],
   "source": [
    "# Seleccionar los datos basados en la condición\n",
    "\n",
    "\n",
    "x_1d[cond]"
   ]
  },
  {
   "cell_type": "code",
   "execution_count": 59,
   "metadata": {},
   "outputs": [
    {
     "data": {
      "text/plain": [
       "array([[ 9,  8,  4,  6,  0,  4],\n",
       "       [ 8,  8,  1,  0,  5,  2],\n",
       "       [11,  8,  5, 10,  5,  9],\n",
       "       [ 4,  1,  9,  3,  2,  8],\n",
       "       [ 5,  2,  1,  9,  1,  5]])"
      ]
     },
     "execution_count": 59,
     "metadata": {},
     "output_type": "execute_result"
    }
   ],
   "source": [
    "# Vamos a crear una matriz 2-D\n",
    "\n",
    "\n",
    "x_2d_int = np.random.randint(12, size=(5, 6))\n",
    "\n",
    "x_2d_int"
   ]
  },
  {
   "cell_type": "code",
   "execution_count": 60,
   "metadata": {},
   "outputs": [
    {
     "data": {
      "text/plain": [
       "array([ 8,  4,  6,  0,  4,  8,  8,  0,  2,  8, 10,  4,  2,  8,  2])"
      ]
     },
     "execution_count": 60,
     "metadata": {},
     "output_type": "execute_result"
    }
   ],
   "source": [
    "# Vamos a extraer los números pares\n",
    "\n",
    "\n",
    "x_2d_int[x_2d_int % 2 == 0]"
   ]
  },
  {
   "cell_type": "markdown",
   "metadata": {},
   "source": [
    "<hr>\n",
    "<div>\n",
    "<span style=\"color:#151D3B; font-weight:bold\">Pregunta: 🤔</span><p>\n",
    "Usando indexación condicional, extrae los números en <code>x_2d_int</code> que son divisibles tanto por 2 como por 7.\n",
    "</div>\n",
    "<hr>\n"
   ]
  },
  {
   "cell_type": "code",
   "execution_count": 61,
   "metadata": {},
   "outputs": [],
   "source": [
    "# Rtta\n",
    "\n"
   ]
  },
  {
   "cell_type": "markdown",
   "metadata": {},
   "source": [
    "<a name='manipulation'></a>\n",
    "## 4. Manipulación de arrays\n"
   ]
  },
  {
   "cell_type": "markdown",
   "metadata": {},
   "source": [
    "La manipulación de datos es un paso importante en cualquier estudio.\n"
   ]
  },
  {
   "cell_type": "markdown",
   "metadata": {},
   "source": [
    "<a name='shape'></a>\n",
    "### 4.1 Forma del array\n"
   ]
  },
  {
   "cell_type": "code",
   "execution_count": 62,
   "metadata": {},
   "outputs": [],
   "source": [
    "# Cremos algunos arrays\n",
    "\n",
    "arr_1d = np.arange(10)\n",
    "arr_2d = 5 * np.random.random((4, 5))\n"
   ]
  },
  {
   "cell_type": "code",
   "execution_count": 63,
   "metadata": {},
   "outputs": [
    {
     "data": {
      "text/plain": [
       "array([0, 1, 2, 3, 4, 5, 6, 7, 8, 9])"
      ]
     },
     "execution_count": 63,
     "metadata": {},
     "output_type": "execute_result"
    }
   ],
   "source": [
    "arr_1d"
   ]
  },
  {
   "cell_type": "code",
   "execution_count": 64,
   "metadata": {},
   "outputs": [
    {
     "data": {
      "text/plain": [
       "array([[1.32720813, 3.62144772, 0.6648468 , 4.05551839, 4.11306466],\n",
       "       [0.9483566 , 3.98388102, 1.14724482, 2.50510148, 0.45639914],\n",
       "       [4.97823222, 4.5248492 , 1.51973616, 1.42423003, 1.90788903],\n",
       "       [2.7236325 , 2.28655278, 4.2860905 , 4.45252043, 3.07183026]])"
      ]
     },
     "execution_count": 64,
     "metadata": {},
     "output_type": "execute_result"
    }
   ],
   "source": [
    "arr_2d"
   ]
  },
  {
   "cell_type": "code",
   "execution_count": 65,
   "metadata": {},
   "outputs": [
    {
     "name": "stdout",
     "output_type": "stream",
     "text": [
      "(10,) (10,)\n"
     ]
    }
   ],
   "source": [
    "# La forma de un arreglo se puede obtener de 2 maneras.\n",
    "\n",
    "\n",
    "print(arr_1d.shape, np.shape(arr_1d))"
   ]
  },
  {
   "cell_type": "code",
   "execution_count": 66,
   "metadata": {},
   "outputs": [
    {
     "data": {
      "text/plain": [
       "(4, 5)"
      ]
     },
     "execution_count": 66,
     "metadata": {},
     "output_type": "execute_result"
    }
   ],
   "source": [
    "arr_2d.shape"
   ]
  },
  {
   "cell_type": "markdown",
   "metadata": {},
   "source": [
    "Podemos cambiar fácilmente la forma de un arreglo de NumPy.\n",
    "\n",
    "```Python\n",
    "array.reshape(filas, columnas)\n",
    "\n",
    "np.reshape(array, newshape=(filas, columnas))\n"
   ]
  },
  {
   "cell_type": "code",
   "execution_count": 67,
   "metadata": {},
   "outputs": [
    {
     "data": {
      "text/plain": [
       "array([[1.32720813, 3.62144772, 0.6648468 , 4.05551839],\n",
       "       [4.11306466, 0.9483566 , 3.98388102, 1.14724482],\n",
       "       [2.50510148, 0.45639914, 4.97823222, 4.5248492 ],\n",
       "       [1.51973616, 1.42423003, 1.90788903, 2.7236325 ],\n",
       "       [2.28655278, 4.2860905 , 4.45252043, 3.07183026]])"
      ]
     },
     "execution_count": 67,
     "metadata": {},
     "output_type": "execute_result"
    }
   ],
   "source": [
    "arr_2d.reshape(5, 4)"
   ]
  },
  {
   "cell_type": "code",
   "execution_count": 68,
   "metadata": {},
   "outputs": [
    {
     "data": {
      "text/plain": [
       "array([[1.32720813, 3.62144772, 0.6648468 , 4.05551839],\n",
       "       [4.11306466, 0.9483566 , 3.98388102, 1.14724482],\n",
       "       [2.50510148, 0.45639914, 4.97823222, 4.5248492 ],\n",
       "       [1.51973616, 1.42423003, 1.90788903, 2.7236325 ],\n",
       "       [2.28655278, 4.2860905 , 4.45252043, 3.07183026]])"
      ]
     },
     "execution_count": 68,
     "metadata": {},
     "output_type": "execute_result"
    }
   ],
   "source": [
    "np.reshape(arr_2d, newshape=(5, 4))"
   ]
  },
  {
   "cell_type": "code",
   "execution_count": 69,
   "metadata": {},
   "outputs": [
    {
     "ename": "SyntaxError",
     "evalue": "invalid syntax (3314245495.py, line 3)",
     "output_type": "error",
     "traceback": [
      "\u001b[0;36m  File \u001b[0;32m\"/tmp/ipykernel_6960/3314245495.py\"\u001b[0;36m, line \u001b[0;32m3\u001b[0m\n\u001b[0;31m    ```python\u001b[0m\n\u001b[0m    ^\u001b[0m\n\u001b[0;31mSyntaxError\u001b[0m\u001b[0;31m:\u001b[0m invalid syntax\n"
     ]
    }
   ],
   "source": [
    "# Podemos aplanar un arreglo utilizando el atributo `flatten`.\n",
    "\n",
    "```python\n",
    "array.flatten()\n",
    "\n",
    "\n",
    "arr_2d.flatten()\n"
   ]
  },
  {
   "cell_type": "markdown",
   "metadata": {},
   "source": [
    "<div class=\"alert alert-block alert-info\">\n",
    "<b>Consejo:</b> El método `reshape` no modifica el arreglo original, mientras que el método `resize` devuelve <code>None</code> y modifica el arreglo en su lugar.</div>\n",
    "\n"
   ]
  },
  {
   "cell_type": "code",
   "execution_count": null,
   "metadata": {},
   "outputs": [],
   "source": [
    "print(\"Froma original: \", arr_2d.shape)\n",
    "\n",
    "arr_2d.reshape(5, 4)\n",
    "\n",
    "print(\"Forma luego de usar reshape: \", arr_2d.shape)\n",
    "\n",
    "a = arr_2d.resize(5, 4)\n",
    "\n",
    "print(\"Forma luego de utilizar resize: \", arr_2d.shape)\n"
   ]
  },
  {
   "cell_type": "markdown",
   "metadata": {},
   "source": [
    "<span style='color:red; font-weight:bold;'>Nota:</span> El método <code>np.resize()</code> funciona de manera similar a <code>np.reshape()</code>.\n"
   ]
  },
  {
   "cell_type": "code",
   "execution_count": null,
   "metadata": {},
   "outputs": [],
   "source": [
    "print(\"Forma original: \", arr_2d.shape)\n",
    "\n",
    "np.reshape(arr_2d, (5, 4))\n",
    "\n",
    "print(\"Forma luego de reshape: \", arr_2d.shape)\n",
    "\n",
    "np.resize(arr_2d, (5, 4))\n",
    "\n",
    "print(\"Forma luego de resize: \", arr_2d.shape)"
   ]
  },
  {
   "cell_type": "markdown",
   "metadata": {},
   "source": [
    "<a name='joining'></a>\n",
    "### 4.2 Haciendo join de arrays\n"
   ]
  },
  {
   "cell_type": "code",
   "execution_count": null,
   "metadata": {},
   "outputs": [],
   "source": [
    "arr1 = np.array([[1, 2, 0, 1]])\n",
    "\n",
    "arr2 = 6 * np.random.random((4, 4))"
   ]
  },
  {
   "cell_type": "code",
   "execution_count": null,
   "metadata": {},
   "outputs": [],
   "source": [
    "# Chequea la forma\n",
    "print('arr1: ', arr1.shape)\n",
    "print('arr2: ', arr2.shape)"
   ]
  },
  {
   "cell_type": "code",
   "execution_count": null,
   "metadata": {},
   "outputs": [],
   "source": [
    "# Haciendo join por filas\n",
    "\n",
    "np.concatenate((arr2, arr1), axis=0)"
   ]
  },
  {
   "cell_type": "markdown",
   "metadata": {},
   "source": [
    "For using `axis = 0`, we should have the same number of columns and for `axis = 1`, we should have the same number of rows."
   ]
  },
  {
   "cell_type": "code",
   "execution_count": null,
   "metadata": {},
   "outputs": [],
   "source": [
    "# haciendo join por columnas \n",
    "# `.T` realiza la transposición de un arreglo, al igual que `np.transpose()`.\n",
    "\n",
    "np.concatenate((arr2, arr1.T), axis=1)"
   ]
  },
  {
   "cell_type": "code",
   "execution_count": null,
   "metadata": {},
   "outputs": [],
   "source": [
    "# Joining by vstack which acts as using axis = 0\n",
    "\n",
    "np.vstack((arr2, arr1))"
   ]
  },
  {
   "cell_type": "code",
   "execution_count": null,
   "metadata": {},
   "outputs": [],
   "source": [
    "# Al unir mediante `vstack` se realiza una concatenación a lo largo del eje 0, equivalente a usar `axis=0`.\n",
    "\n",
    "\n",
    "np.hstack((arr2, arr1.T))"
   ]
  },
  {
   "cell_type": "code",
   "execution_count": null,
   "metadata": {},
   "outputs": [],
   "source": [
    "# Al unir mediante `column_stack` se realiza una concatenación a lo largo del eje 1, equivalente a usar `axis=1`.\n",
    "\n",
    "\n",
    "np.column_stack((arr2, arr1.T))"
   ]
  },
  {
   "cell_type": "markdown",
   "metadata": {},
   "source": [
    "<a name='splitting'></a>\n",
    "### 4.3 Division de arrays \n"
   ]
  },
  {
   "cell_type": "markdown",
   "metadata": {},
   "source": [
    "El opuesto de concatenación es división.\n",
    "\n",
    "`np.split`, `np.hsplit`, `np.vsplit`\n"
   ]
  },
  {
   "cell_type": "code",
   "execution_count": null,
   "metadata": {},
   "outputs": [],
   "source": [
    "arr2"
   ]
  },
  {
   "cell_type": "code",
   "execution_count": null,
   "metadata": {},
   "outputs": [],
   "source": [
    "# Dividiendo con el eje = 0\n",
    "\n",
    "np.split(arr2, 2)"
   ]
  },
  {
   "cell_type": "code",
   "execution_count": null,
   "metadata": {},
   "outputs": [],
   "source": [
    "# Dividiendo con eje = 1\n",
    "\n",
    "np.array_split(arr2, 2, axis=1)"
   ]
  },
  {
   "cell_type": "code",
   "execution_count": null,
   "metadata": {},
   "outputs": [],
   "source": [
    "# Utilizando hsplit / vsplit\n",
    "\n",
    "np.hsplit(arr2, 2)"
   ]
  },
  {
   "cell_type": "markdown",
   "metadata": {},
   "source": [
    "<a name='computation'></a>\n",
    "## 5. Cálculos en arreglos de NumPy\n",
    "\n"
   ]
  },
  {
   "cell_type": "markdown",
   "metadata": {},
   "source": [
    "Los cálculos en arreglos de NumPy pueden ser muy rápidos si utilizamos operadores *vectorizados* a través de *funciones universales*, **ufuncs**.\n"
   ]
  },
  {
   "cell_type": "code",
   "execution_count": null,
   "metadata": {},
   "outputs": [],
   "source": [
    "# Creando dos arrays\n",
    "\n",
    "arr1d_1 = np.arange(7)\n",
    "arr1d_2 = np.linspace(9, 12, len(arr1d_1))\n",
    "\n",
    "\n",
    "arr2d_1 = np.random.random((4, 5))\n",
    "arr2d_2 = 4 + 6 * np.random.random((4, 5))"
   ]
  },
  {
   "cell_type": "code",
   "execution_count": null,
   "metadata": {},
   "outputs": [],
   "source": [
    "#Adición de dos arrays (equivalente de arr1d_1 + arr1d_2)\n",
    "\n",
    "np.add(arr2d_1, arr2d_2)"
   ]
  },
  {
   "cell_type": "code",
   "execution_count": null,
   "metadata": {},
   "outputs": [],
   "source": [
    "#Resta de dos arrays(equivalent of arr1d_1 - arr1d_2)\n",
    "\n",
    "np.subtract(arr2d_1, arr2d_2)"
   ]
  },
  {
   "cell_type": "code",
   "execution_count": null,
   "metadata": {},
   "outputs": [],
   "source": [
    "# Multiplicación de dos arrays (equivalent of arr1d_1 * arr1d_2)\n",
    "\n",
    "np.multiply(arr2d_1, arr2d_2)"
   ]
  },
  {
   "cell_type": "code",
   "execution_count": null,
   "metadata": {},
   "outputs": [],
   "source": [
    "# División de dos arrays (equivalent of arr1d_1 + arr1d_2)\n",
    "\n",
    "np.divide(arr2d_1, arr2d_2)"
   ]
  },
  {
   "cell_type": "code",
   "execution_count": null,
   "metadata": {},
   "outputs": [],
   "source": [
    "# Logaritmo de un array\n",
    "\n",
    "np.log10(arr2d_1)"
   ]
  },
  {
   "cell_type": "code",
   "execution_count": null,
   "metadata": {},
   "outputs": [],
   "source": [
    "# Exponente de un array \n",
    "np.exp(arr2d_1)"
   ]
  },
  {
   "cell_type": "code",
   "execution_count": null,
   "metadata": {},
   "outputs": [],
   "source": [
    "# Seno de un array\n",
    "\n",
    "np.sin(arr2d_1)"
   ]
  },
  {
   "cell_type": "code",
   "execution_count": null,
   "metadata": {},
   "outputs": [],
   "source": [
    "# Comparación para mayor, equivalente a `arr2d_1 > arr2d_2`\n",
    "\n",
    "\n",
    "np.greater(arr2d_1, arr2d_2)"
   ]
  },
  {
   "cell_type": "code",
   "execution_count": null,
   "metadata": {},
   "outputs": [],
   "source": [
    "# Comparison for greate, equivalent arr2d_1 < arr2d_2\n",
    "\n",
    "np.less(arr2d_1, arr2d_2)"
   ]
  },
  {
   "cell_type": "code",
   "execution_count": null,
   "metadata": {},
   "outputs": [],
   "source": [
    "# Encontrar el valor absoluto de un arreglo, equivalente a `np.absolute`\n",
    "\n",
    "np.abs([2, -1, 9, -1.2])"
   ]
  },
  {
   "cell_type": "markdown",
   "metadata": {},
   "source": [
    "<a name='aggregations'></a>\n",
    "## 6. Agregaciones\n",
    "\n"
   ]
  },
  {
   "cell_type": "markdown",
   "metadata": {},
   "source": [
    "Antes de realizar cualquier operación, es bueno tener estadísticas resumidas de los datos.\n"
   ]
  },
  {
   "cell_type": "markdown",
   "metadata": {},
   "source": [
    "<a name='summation'></a>\n",
    "###  6.1 Suma\n"
   ]
  },
  {
   "cell_type": "code",
   "execution_count": null,
   "metadata": {},
   "outputs": [],
   "source": [
    "# Creemos un array \n",
    "\n",
    "arr1 = np.random.random((100, 100))\n"
   ]
  },
  {
   "cell_type": "code",
   "execution_count": null,
   "metadata": {},
   "outputs": [],
   "source": [
    "# Suma de valores en un array \n",
    "\n",
    "np.sum(arr1)"
   ]
  },
  {
   "cell_type": "code",
   "execution_count": null,
   "metadata": {},
   "outputs": [],
   "source": [
    "# Comparando con la función incorporada de Python\n",
    "\n",
    "\n",
    "big_array = np.random.random(100000)\n",
    "\n",
    "%timeit sum(big_array)\n",
    "%timeit np.sum(big_array)"
   ]
  },
  {
   "cell_type": "markdown",
   "metadata": {},
   "source": [
    "<a name='min_max'></a>\n",
    "###  6.2 Mínimo y máximo \n"
   ]
  },
  {
   "cell_type": "code",
   "execution_count": null,
   "metadata": {},
   "outputs": [],
   "source": [
    "# Creemos un array\n",
    "\n",
    "arr1 = np.random.random((6, 5))"
   ]
  },
  {
   "cell_type": "code",
   "execution_count": null,
   "metadata": {},
   "outputs": [],
   "source": [
    "# Encontrando max a lo largo de las columnas\n",
    "\n",
    "arr1.max(axis=0)"
   ]
  },
  {
   "cell_type": "code",
   "execution_count": null,
   "metadata": {},
   "outputs": [],
   "source": [
    "# Encontrando max a lo largo de las filas\n",
    "arr1.max(axis=1)"
   ]
  },
  {
   "cell_type": "code",
   "execution_count": null,
   "metadata": {},
   "outputs": [],
   "source": [
    "# Encontrando min\n",
    "arr1.min(axis=0)"
   ]
  },
  {
   "cell_type": "code",
   "execution_count": null,
   "metadata": {},
   "outputs": [],
   "source": [
    "# Podemos usar `np.max` / `np.min` también.\n",
    "\n",
    "np.max(arr1, axis=1)"
   ]
  },
  {
   "cell_type": "markdown",
   "metadata": {},
   "source": [
    "<a name='var_std'></a>\n",
    "### 6.3 Varianza y desviación estandar \n"
   ]
  },
  {
   "cell_type": "code",
   "execution_count": null,
   "metadata": {},
   "outputs": [],
   "source": [
    "# Creemos un array \n",
    "\n",
    "arr1 = np.random.random((6, 5))"
   ]
  },
  {
   "cell_type": "code",
   "execution_count": null,
   "metadata": {},
   "outputs": [],
   "source": [
    "# Calculando la desviación estándar del arreglo.\n",
    "\n",
    "np.std(arr1)"
   ]
  },
  {
   "cell_type": "code",
   "execution_count": null,
   "metadata": {},
   "outputs": [],
   "source": [
    "arr1.std()"
   ]
  },
  {
   "cell_type": "code",
   "execution_count": null,
   "metadata": {},
   "outputs": [],
   "source": [
    "# Vamos a verificar si la desviación estándar es igual a la raíz cuadrada de la varianza.\n",
    "\n",
    "arr1.std() == np.sqrt(arr1.var())"
   ]
  },
  {
   "cell_type": "code",
   "execution_count": null,
   "metadata": {},
   "outputs": [],
   "source": [
    "# Desviación estándar a lo largo de las filas.\n",
    "\n",
    "arr1.std(axis=1)"
   ]
  },
  {
   "cell_type": "code",
   "execution_count": null,
   "metadata": {},
   "outputs": [],
   "source": [
    "# varianza a lo largo de las columnas\n",
    "\n",
    "arr1.var(axis=0)"
   ]
  },
  {
   "cell_type": "markdown",
   "metadata": {},
   "source": [
    "<a name='mean_median'></a>\n",
    "###  6.4 Media y mediana\n"
   ]
  },
  {
   "cell_type": "code",
   "execution_count": null,
   "metadata": {},
   "outputs": [],
   "source": [
    "# Creemos un array\n",
    "\n",
    "arr1 = np.random.random((6, 5))"
   ]
  },
  {
   "cell_type": "code",
   "execution_count": null,
   "metadata": {},
   "outputs": [],
   "source": [
    "# Calulemos la media de un array\n",
    "\n",
    "arr1.mean()"
   ]
  },
  {
   "cell_type": "code",
   "execution_count": null,
   "metadata": {},
   "outputs": [],
   "source": [
    "# Calcular la media a lo largo de un eje.\n",
    "\n",
    "arr1.mean(axis=1)"
   ]
  },
  {
   "cell_type": "code",
   "execution_count": null,
   "metadata": {},
   "outputs": [],
   "source": [
    "# Calcular la media de todo el arreglo.\n",
    "\n",
    "np.median(arr1)"
   ]
  },
  {
   "cell_type": "markdown",
   "metadata": {},
   "source": [
    "<span style='color:red; font-weight:bold;'>Nota: </span> Un <code>ndarray</code> no tiene el método \"median\"."
   ]
  },
  {
   "cell_type": "markdown",
   "metadata": {},
   "source": [
    "<a name='find_index'></a>\n",
    "###  6.5 Encontrar indice \n"
   ]
  },
  {
   "cell_type": "code",
   "execution_count": null,
   "metadata": {},
   "outputs": [],
   "source": [
    "# Creemos un array\n",
    "\n",
    "arr1 = np.random.random((6, 5))\n",
    "arr1[3, 3] = 0\n",
    "arr1"
   ]
  },
  {
   "cell_type": "code",
   "execution_count": null,
   "metadata": {},
   "outputs": [],
   "source": [
    "# Encontremos el indice del maximo valor\n",
    "\n",
    "arr1.argmax()"
   ]
  },
  {
   "cell_type": "code",
   "execution_count": null,
   "metadata": {},
   "outputs": [],
   "source": [
    "# Encontremos el índice del mínimo valor\n",
    "\n",
    "arr1.argmin()"
   ]
  },
  {
   "cell_type": "code",
   "execution_count": null,
   "metadata": {},
   "outputs": [],
   "source": [
    "# Encontremos el índice de un valor específico\n",
    "\n",
    "np.where(arr1 == 0)"
   ]
  },
  {
   "cell_type": "markdown",
   "metadata": {},
   "source": [
    "### [AL PRINCIPIO ☝️](#top)\n"
   ]
  },
  {
   "cell_type": "code",
   "execution_count": null,
   "metadata": {},
   "outputs": [],
   "source": []
  }
 ],
 "metadata": {
  "interpreter": {
   "hash": "ece4c4f9c4961c7468795d846fc72c6e00987d764e9134aaba41ea0514f48bf6"
  },
  "kernelspec": {
   "display_name": "Python 3 (ipykernel)",
   "language": "python",
   "name": "python3"
  },
  "language_info": {
   "codemirror_mode": {
    "name": "ipython",
    "version": 3
   },
   "file_extension": ".py",
   "mimetype": "text/x-python",
   "name": "python",
   "nbconvert_exporter": "python",
   "pygments_lexer": "ipython3",
   "version": "3.9.7"
  }
 },
 "nbformat": 4,
 "nbformat_minor": 2
}
